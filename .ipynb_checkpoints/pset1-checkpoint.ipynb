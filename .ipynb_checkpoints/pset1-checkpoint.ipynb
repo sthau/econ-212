{
 "cells": [
  {
   "cell_type": "code",
   "execution_count": 1,
   "id": "47bf3940",
   "metadata": {},
   "outputs": [],
   "source": [
    "import numpy as np\n",
    "import pandas as pd\n",
    "import matplotlib.pyplot as plt\n",
    "from sequence_jacobian import simple, create_model\n",
    "from sequence_jacobian.utilities.drawdag import drawdag\n",
    "from fredapi import Fred"
   ]
  },
  {
   "cell_type": "markdown",
   "id": "b98509d7",
   "metadata": {},
   "source": [
    "# Question 1"
   ]
  },
  {
   "cell_type": "markdown",
   "id": "6757d775",
   "metadata": {},
   "source": [
    "### Part 1"
   ]
  },
  {
   "cell_type": "code",
   "execution_count": 2,
   "id": "6e6f43fa",
   "metadata": {},
   "outputs": [],
   "source": [
    "fred = Fred(api_key = 'f6fa4f544be19c2ea791e9a3240470bf')\n",
    "start_date = '1947-01-01'"
   ]
  },
  {
   "cell_type": "code",
   "execution_count": null,
   "id": "c8051977",
   "metadata": {},
   "outputs": [],
   "source": [
    "## TO DO: create function to return logged data series"
   ]
  },
  {
   "cell_type": "code",
   "execution_count": 3,
   "id": "836435a6",
   "metadata": {},
   "outputs": [],
   "source": [
    "## SERIES UP TO 2019Q4\n",
    "end_date = '2019-10-01'\n",
    "\n",
    "Y_trunc = fred.get_series('GDPC1', observation_start = start_date, observation_end = end_date)\n",
    "Y_log_trunc = np.log(fred.get_series('GDPC1', observation_start = start_date, observation_end = end_date)) * 100\n",
    "\n",
    "# deflator for consumption series\n",
    "defl_trunc = fred.get_series('PCECTPI', observation_start = start_date, observation_end = end_date)\n",
    "\n",
    "# convert nominal consumption series to real\n",
    "C_log_trunc = np.log(fred.get_series('PCEC', observation_start = start_date, observation_end = end_date) / defl_trunc) * 100\n",
    "Cd_log_trunc = np.log(fred.get_series('PCDG', observation_start = start_date, observation_end = end_date) / defl_trunc) * 100\n",
    "Cn_log_trunc = np.log(fred.get_series('PCND', observation_start = start_date, observation_end = end_date) / defl_trunc) * 100\n",
    "\n",
    "I_log_trunc = np.log(fred.get_series('GPDIC1', observation_start = start_date, observation_end = end_date)) * 100\n",
    "G_log_trunc = np.log(fred.get_series('GCEC1', observation_start = start_date, observation_end = end_date)) * 100\n",
    "\n",
    "# total hours = weekly hours * employment\n",
    "H_trunc = fred.get_series('PRS85006023', observation_start = start_date, observation_end = end_date)\n",
    "E_trunc = fred.get_series('PAYEMS', observation_start = start_date, observation_end = end_date)\n",
    "E_trunc = E_trunc[0:(len(E_trunc) + 1):3]\n",
    "E_log_trunc = np.log(E_trunc) * 100\n",
    "N_log_trunc = np.log(H_trunc * E_trunc) * 100\n",
    "\n",
    "YN_log_trunc = np.log(Y_trunc / H_trunc) * 100\n",
    "\n",
    "# convert nominal wages to real\n",
    "w_log_trunc = np.log(fred.get_series('COMPNFB', observation_start = start_date, observation_end = end_date) / defl_trunc) * 100\n",
    "\n",
    "# real interest rate = federal funds rate - realized inflation\n",
    "ffr_trunc = fred.get_series('FEDFUNDS', observation_start = start_date, observation_end = end_date)\n",
    "ffr_trunc = ffr_trunc[0:(len(ffr_trunc) + 1):3]\n",
    "r_trunc = ffr_trunc - (np.diff(np.log(defl_trunc)) * 100)[29:]"
   ]
  },
  {
   "cell_type": "code",
   "execution_count": 4,
   "id": "285518bc",
   "metadata": {},
   "outputs": [],
   "source": [
    "## SERIES UP TO 2022Q4\n",
    "end_date = '2022-10-01'\n",
    "\n",
    "Y = fred.get_series('GDPC1', observation_start = start_date, observation_end = end_date)\n",
    "Y_log = np.log(fred.get_series('GDPC1', observation_start = start_date, observation_end = end_date)) * 100\n",
    "\n",
    "# deflator for consumption series\n",
    "defl = fred.get_series('PCECTPI', observation_start = start_date, observation_end = end_date)\n",
    "\n",
    "# convert nominal consumption series to real\n",
    "C_log = np.log(fred.get_series('PCEC', observation_start = start_date, observation_end = end_date) / defl) * 100\n",
    "Cd_log = np.log(fred.get_series('PCDG', observation_start = start_date, observation_end = end_date) / defl) * 100\n",
    "Cn_log = np.log(fred.get_series('PCND', observation_start = start_date, observation_end = end_date) / defl) * 100\n",
    "\n",
    "I_log = np.log(fred.get_series('GPDIC1', observation_start = start_date, observation_end = end_date)) * 100\n",
    "G_log = np.log(fred.get_series('GCEC1', observation_start = start_date, observation_end = end_date)) * 100\n",
    "\n",
    "# total hours = weekly hours * employment\n",
    "H = fred.get_series('PRS85006023', observation_start = start_date, observation_end = end_date)\n",
    "E = fred.get_series('PAYEMS', observation_start = start_date, observation_end = end_date)\n",
    "E = E[0:(len(E) + 1):3]\n",
    "E_log = np.log(E) * 100\n",
    "N_log = np.log(H * E) * 100\n",
    "\n",
    "YN_log = np.log(Y / H) * 100\n",
    "\n",
    "# convert nominal wages to real\n",
    "w_log = np.log(fred.get_series('COMPNFB', observation_start = start_date, observation_end = end_date) / defl) * 100\n",
    "\n",
    "# real interest rate = federal funds rate - realized inflation\n",
    "ffr = fred.get_series('FEDFUNDS', observation_start = start_date, observation_end = end_date)\n",
    "ffr = ffr[0:(len(ffr) + 1):3]\n",
    "r = ffr - (np.diff(np.log(defl)) * 100)[29:]"
   ]
  },
  {
   "cell_type": "markdown",
   "id": "596c841b",
   "metadata": {},
   "source": [
    "# Question 2"
   ]
  },
  {
   "cell_type": "markdown",
   "id": "81455f70",
   "metadata": {},
   "source": [
    "### Part 1"
   ]
  },
  {
   "cell_type": "code",
   "execution_count": null,
   "id": "ba4b8cd7",
   "metadata": {},
   "outputs": [],
   "source": [
    "@simple\n",
    "def firm(K, n, a, alpha, delta):\n",
    "    r = alpha * a * (K(-1) / n) ** (alpha-1) - delta\n",
    "    w = (1 - alpha) * a * (K(-1) / n) ** alpha\n",
    "    Y = a * K(-1) ** alpha * n ** (1 - alpha)\n",
    "    return r, w, Y\n",
    "\n",
    "@simple\n",
    "def household(K, n, w, eis, frisch, b, delta):\n",
    "    C = (w / b / n ** (1 / frisch)) ** eis\n",
    "    I = K - (1 - delta) * K(-1)\n",
    "    return C, I\n",
    "\n",
    "@simple\n",
    "def mkt_clearing(r, C, Y, I, K, n, w, eis, beta):\n",
    "    goods_mkt = Y - C - I\n",
    "    euler = C ** (-1 / eis) - beta * (1 + r(+1)) * C(+1) ** (-1 / eis)\n",
    "    walras = C + K - (1 + r) * K(-1) - w * n\n",
    "    return goods_mkt, euler, walras"
   ]
  },
  {
   "cell_type": "code",
   "execution_count": null,
   "id": "f5a69eff",
   "metadata": {},
   "outputs": [],
   "source": [
    "rbc = create_model([household, firm, mkt_clearing], name=\"rbc_problem_2\")"
   ]
  },
  {
   "cell_type": "code",
   "execution_count": null,
   "id": "8e2f30e1",
   "metadata": {},
   "outputs": [],
   "source": [
    "# according to Cedomir, remove a and r from calibration - DON'T FOLLOW THE SECTION CODE\n",
    "# calibration: known parameter values\n",
    "# unknowns: K, n, unknown paramenter values (b, beta, delta)\n",
    "# targets: Euler equation, market-clearing condition, K/Y = 14, I/Y = 0.25, n = 1/3\n",
    "\n",
    "calibration = {\"n\": 1./3., \"eis\": 0.5, \"frisch\": 1., \"delta\": 0.0178, \"alpha\": 0.33}\n",
    "unknowns_ss = {\"b\": 8.766, \"beta\": 0.994, \"K\": 17.12, \"a\": 1.}\n",
    "targets_ss = {\"goods_mkt\": 0., \"r\": 0.024, \"euler\": 0., \"Y\": 1.222}\n",
    "\n",
    "ss = rbc.solve_steady_state(calibration, unknowns_ss, targets_ss, solver=\"hybr\")"
   ]
  },
  {
   "cell_type": "code",
   "execution_count": null,
   "id": "d0671a7e",
   "metadata": {},
   "outputs": [],
   "source": [
    "print(f\"Goods market clearing: {ss['goods_mkt']},\\nEuler equation: {ss['euler']},\\nWalras: {ss['walras']}\")"
   ]
  },
  {
   "cell_type": "code",
   "execution_count": null,
   "id": "4ba33755",
   "metadata": {},
   "outputs": [],
   "source": [
    "unknowns = ['K', 'n']\n",
    "targets = ['euler', 'goods_mkt']\n",
    "inputs = ['a']\n",
    "\n",
    "G = rbc.solve_jacobian(ss, unknowns, targets, inputs, T=200)"
   ]
  },
  {
   "cell_type": "code",
   "execution_count": null,
   "id": "b2f88d0a",
   "metadata": {},
   "outputs": [],
   "source": [
    "T, impact, rho = 200, 0.01, 0.9\n",
    "da = np.zeros((T, 2))\n",
    "da[0, 0] = impact * ss['a']\n",
    "da[:, 1] = impact * ss['a'] * rho**np.arange(T)"
   ]
  },
  {
   "cell_type": "code",
   "execution_count": null,
   "id": "d0b7aeba",
   "metadata": {},
   "outputs": [],
   "source": [
    "var_list = [\"Y\", \"n\", \"C\", \"I\", \"K\", \"w\", \"r\"]"
   ]
  },
  {
   "cell_type": "code",
   "execution_count": null,
   "id": "daa285c9",
   "metadata": {
    "scrolled": false
   },
   "outputs": [],
   "source": [
    "for var in var_list:\n",
    "    dVal = 100 * G[var]['a'] @ da / ss[var]\n",
    "    plt.plot(dVal[:50, 1], linewidth=2.5)\n",
    "    plt.title(f'{var} response to TFP shocks')\n",
    "    plt.ylabel('% deviation from ss')\n",
    "    plt.xlabel('quarters')\n",
    "    plt.show()"
   ]
  },
  {
   "cell_type": "markdown",
   "id": "43eafac3",
   "metadata": {},
   "source": [
    "### Part 2"
   ]
  },
  {
   "cell_type": "code",
   "execution_count": null,
   "id": "3b8d15be",
   "metadata": {},
   "outputs": [],
   "source": [
    "burn = 51\n",
    "T = 200\n",
    "A_mat = np.zeros((100, T + burn))\n",
    "dA_mat = np.zeros((100, T + burn))\n",
    "\n",
    "K_mat = np.zeros((100, T))\n",
    "K_mat[:,0] = ss['K']\n",
    "\n",
    "C_mat = np.zeros((100, T))\n",
    "C_mat[:,0] = ss['C']\n",
    "\n",
    "Y_mat = np.zeros((100, T))\n",
    "Y_mat[:,0] = ss['Y']\n",
    "\n",
    "n_mat = np.zeros((100, T))\n",
    "n_mat[:,0] = ss['n']\n",
    "\n",
    "for seq in range(100):\n",
    "    for t in range(1, T + burn):\n",
    "        A_mat[seq, t] = rho*A_mat[seq, t-1] + np.random.normal(0,impact)\n",
    "        dA_mat[seq, t] = A_mat[seq, t] - A_mat[seq, t-1] \n",
    "\n",
    "for seq in range(100):\n",
    "    for t in range(1, T):\n",
    "        K_mat[seq, t] = K_mat[seq, t-1] + G['K']['a'][t, 0] * dA_mat[seq, T - t]\n",
    "        "
   ]
  },
  {
   "cell_type": "code",
   "execution_count": null,
   "id": "badd45b1",
   "metadata": {},
   "outputs": [],
   "source": [
    "plt.plot(K_mat[1, :])"
   ]
  },
  {
   "cell_type": "code",
   "execution_count": null,
   "id": "37f554a0",
   "metadata": {},
   "outputs": [],
   "source": [
    "G['K']['a'][0, 0]"
   ]
  },
  {
   "cell_type": "code",
   "execution_count": null,
   "id": "7117ade7",
   "metadata": {},
   "outputs": [],
   "source": [
    "dA_mat[1, 250 - 1]"
   ]
  }
 ],
 "metadata": {
  "kernelspec": {
   "display_name": "Python 3 (ipykernel)",
   "language": "python",
   "name": "python3"
  },
  "language_info": {
   "codemirror_mode": {
    "name": "ipython",
    "version": 3
   },
   "file_extension": ".py",
   "mimetype": "text/x-python",
   "name": "python",
   "nbconvert_exporter": "python",
   "pygments_lexer": "ipython3",
   "version": "3.10.6"
  }
 },
 "nbformat": 4,
 "nbformat_minor": 5
}
