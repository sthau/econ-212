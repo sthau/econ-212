{
 "cells": [
  {
   "cell_type": "code",
   "execution_count": 1,
   "id": "47bf3940",
   "metadata": {},
   "outputs": [],
   "source": [
    "from fredapi import Fred\n",
    "from sequence_jacobian import simple, create_model\n",
    "from sequence_jacobian.utilities.drawdag import drawdag\n",
    "from statsmodels.tsa.filters.hp_filter import hpfilter\n",
    "import numpy as np\n",
    "import matplotlib.pyplot as plt\n",
    "import pandas as pd"
   ]
  },
  {
   "cell_type": "code",
   "execution_count": 2,
   "id": "6e6f43fa",
   "metadata": {},
   "outputs": [],
   "source": [
    "fred = Fred(api_key = 'f6fa4f544be19c2ea791e9a3240470bf')"
   ]
  },
  {
   "cell_type": "markdown",
   "id": "b98509d7",
   "metadata": {},
   "source": [
    "# Question 1"
   ]
  },
  {
   "cell_type": "markdown",
   "id": "6757d775",
   "metadata": {},
   "source": [
    "### Part 1"
   ]
  },
  {
   "cell_type": "code",
   "execution_count": 3,
   "id": "ad0a2baf",
   "metadata": {},
   "outputs": [],
   "source": [
    "# function for returning HP-filtered logged data series\n",
    "def get_detrended_data(start_date, end_date, lamb):\n",
    "    \n",
    "    Y = fred.get_series('GDPC1', observation_start = start_date, observation_end = end_date)\n",
    "    Y_log = np.log(fred.get_series('GDPC1', observation_start = start_date, observation_end = end_date)) * 100\n",
    "\n",
    "    # deflator for consumption series\n",
    "    defl = fred.get_series('PCECTPI', observation_start = start_date, observation_end = end_date)\n",
    "\n",
    "    # convert nominal consumption series to real\n",
    "    C_log = np.log(fred.get_series('PCEC', observation_start = start_date, observation_end = end_date) / defl) * 100\n",
    "    Cd_log = np.log(fred.get_series('PCDG', observation_start = start_date, observation_end = end_date) / defl) * 100\n",
    "    Cn_log = np.log(fred.get_series('PCND', observation_start = start_date, observation_end = end_date) / defl) * 100\n",
    "\n",
    "    I_log = np.log(fred.get_series('GPDIC1', observation_start = start_date, observation_end = end_date)) * 100\n",
    "    G_log = np.log(fred.get_series('GCEC1', observation_start = start_date, observation_end = end_date)) * 100\n",
    "\n",
    "    # total hours = weekly hours * employment\n",
    "    H = fred.get_series('PRS85006023', observation_start = start_date, observation_end = end_date)\n",
    "    E = fred.get_series('PAYEMS', observation_start = start_date, observation_end = end_date)\n",
    "    E = E[0:(len(E) + 1):3]\n",
    "    E_log = np.log(E) * 100\n",
    "    N_log = np.log(H * E) * 100\n",
    "\n",
    "    YN_log = np.log(Y / H) * 100\n",
    "\n",
    "    # convert nominal wages to real\n",
    "    w_log = np.log(fred.get_series('COMPNFB', observation_start = start_date, observation_end = end_date) / defl) * 100\n",
    "\n",
    "    # real interest rate = federal funds rate - realized inflation\n",
    "    ffr = fred.get_series('FEDFUNDS', observation_start = start_date, observation_end = end_date)\n",
    "    ffr = ffr[0:(len(ffr) + 1):3]\n",
    "    r = ffr - (np.diff(np.log(defl)) * 100)[29:]\n",
    "    \n",
    "    output = [Y_log, C_log, Cd_log, Cn_log, I_log, G_log, N_log, YN_log, E_log, w_log]\n",
    "    \n",
    "    # detrend everything except for r using HP filter\n",
    "    for i in range(len(output)):\n",
    "        output[i] = hpfilter(output[i], lamb = lamb)[0]\n",
    "    \n",
    "    return output, r"
   ]
  },
  {
   "cell_type": "code",
   "execution_count": 4,
   "id": "c8051977",
   "metadata": {},
   "outputs": [],
   "source": [
    "# series up to 2019Q4\n",
    "[Y_trunc, C_trunc, Cd_trunc, Cn_trunc, I_trunc, \n",
    " G_trunc, N_trunc, YN_trunc, E_trunc, w_trunc], r_trunc = get_detrended_data('1947-01-01', '2019-10-01', 1600)\n",
    "output_trunc = {'Y_trunc': Y_trunc, \n",
    "                'C_trunc': C_trunc, \n",
    "                'Cd_trunc': Cd_trunc,\n",
    "                'Cn_trunc': Cn_trunc, \n",
    "                'I_trunc': I_trunc, \n",
    "                'G_trunc': G_trunc, \n",
    "                'N_trunc': N_trunc, \n",
    "                'Y/N_trunc': YN_trunc, \n",
    "                'E_trunc': E_trunc, \n",
    "                'w_trunc': w_trunc, \n",
    "                'r_trunc': r_trunc}\n",
    "\n",
    "# bonus: series up to 2022Q4\n",
    "[Y, C, Cd, Cn, I, G, N, YN, E, w], r = get_detrended_data('1947-01-01', '2022-10-01', 1600)\n",
    "output = {'Y': Y, \n",
    "          'C': C, \n",
    "          'Cd': Cd, \n",
    "          'Cn': Cn, \n",
    "          'I': I, \n",
    "          'G': G, \n",
    "          'N': N, \n",
    "          'Y/N': YN, \n",
    "          'E': E, \n",
    "          'w': w, \n",
    "          'r': r}"
   ]
  },
  {
   "cell_type": "code",
   "execution_count": 5,
   "id": "b872c19b",
   "metadata": {},
   "outputs": [
    {
     "name": "stdout",
     "output_type": "stream",
     "text": [
      "Y_trunc: 1.5801\n",
      "C_trunc: 1.2084\n",
      "Cd_trunc: 4.7331\n",
      "Cn_trunc: 1.3687\n",
      "I_trunc: 7.249\n",
      "G_trunc: 3.2533\n",
      "N_trunc: 1.6848\n",
      "Y/N_trunc: 1.2644\n",
      "E_trunc: 1.4142\n",
      "w_trunc: 0.8666\n",
      "r_trunc: 3.237\n",
      "\n",
      "Y: 1.6623\n",
      "C: 1.3939\n",
      "Cd: 4.8814\n",
      "Cn: 1.4568\n",
      "I: 7.2131\n",
      "G: 3.2004\n",
      "N: 1.9532\n",
      "Y/N: 1.3309\n",
      "E: 1.681\n",
      "w: 1.0068\n",
      "r: 3.3015\n"
     ]
    }
   ],
   "source": [
    "# standard deviation\n",
    "stdev_trunc = {}\n",
    "for key in output_trunc:\n",
    "    stdev_trunc[key] = np.std(output_trunc[key])\n",
    "    print(key, ': ', round(stdev_trunc[key], 4), sep = '')\n",
    "print()\n",
    "stdev = {}\n",
    "for key in output:\n",
    "    stdev[key] = np.std(output[key])\n",
    "    print(key, ': ', round(stdev[key], 4), sep = '')"
   ]
  },
  {
   "cell_type": "code",
   "execution_count": 6,
   "id": "741d3cd0",
   "metadata": {},
   "outputs": [
    {
     "name": "stdout",
     "output_type": "stream",
     "text": [
      "Y_trunc: 1.0\n",
      "C_trunc: 0.7647\n",
      "Cd_trunc: 2.9954\n",
      "Cn_trunc: 0.8662\n",
      "I_trunc: 4.5876\n",
      "G_trunc: 2.0589\n",
      "N_trunc: 1.0663\n",
      "Y/N_trunc: 0.8002\n",
      "E_trunc: 0.895\n",
      "w_trunc: 0.5485\n",
      "r_trunc: 2.0485\n",
      "\n",
      "Y: 1.0\n",
      "C: 0.8386\n",
      "Cd: 2.9366\n",
      "Cn: 0.8764\n",
      "I: 4.3393\n",
      "G: 1.9253\n",
      "N: 1.175\n",
      "Y/N: 0.8006\n",
      "E: 1.0112\n",
      "w: 0.6057\n",
      "r: 1.9861\n"
     ]
    }
   ],
   "source": [
    "# relative standard deviation with respect to output\n",
    "for key in output_trunc:\n",
    "    print(key, ': ', round(stdev_trunc[key] / stdev_trunc['Y_trunc'], 4), sep = '')\n",
    "print()\n",
    "for key in output:\n",
    "    print(key, ': ', round(stdev[key] / stdev['Y'], 4), sep = '')"
   ]
  },
  {
   "cell_type": "code",
   "execution_count": 7,
   "id": "70bfda97",
   "metadata": {},
   "outputs": [
    {
     "name": "stdout",
     "output_type": "stream",
     "text": [
      "Y_trunc: 0.8489\n",
      "C_trunc: 0.8111\n",
      "Cd_trunc: 0.7477\n",
      "Cn_trunc: 0.797\n",
      "I_trunc: 0.7956\n",
      "G_trunc: 0.9061\n",
      "N_trunc: 0.8916\n",
      "Y/N_trunc: 0.8254\n",
      "E_trunc: 0.8997\n",
      "w_trunc: 0.6773\n",
      "r_trunc: 0.9388\n",
      "\n",
      "Y: 0.782\n",
      "C: 0.7044\n",
      "Cd: 0.7417\n",
      "Cn: 0.7453\n",
      "I: 0.7816\n",
      "G: 0.9051\n",
      "N: 0.7652\n",
      "Y/N: 0.7588\n",
      "E: 0.7621\n",
      "w: 0.6798\n",
      "r: 0.9421\n"
     ]
    }
   ],
   "source": [
    "# first-order autocorrelation\n",
    "for key in output_trunc:\n",
    "    print(key, ': ', round(np.corrcoef(output_trunc[key][1:], \n",
    "                                       output_trunc[key][0:-1])[0, 1], 4), sep = '')\n",
    "print()\n",
    "for key in output:\n",
    "    print(key, ': ', round(np.corrcoef(output[key][1:], output[key][0:-1])[0, 1], 4), sep = '')"
   ]
  },
  {
   "cell_type": "code",
   "execution_count": 8,
   "id": "9ea00755",
   "metadata": {},
   "outputs": [
    {
     "name": "stdout",
     "output_type": "stream",
     "text": [
      "Y_trunc: 1.0\n",
      "C_trunc: 0.7684\n",
      "Cd_trunc: 0.5884\n",
      "Cn_trunc: 0.6461\n",
      "I_trunc: 0.8344\n",
      "G_trunc: 0.1552\n",
      "N_trunc: 0.8535\n",
      "Y/N_trunc: 0.9603\n",
      "E_trunc: 0.7581\n",
      "w_trunc: 0.1058\n",
      "r_trunc: 0.1484\n",
      "\n",
      "Y: 1.0\n",
      "C: 0.7964\n",
      "Cd: 0.5544\n",
      "Cn: 0.6637\n",
      "I: 0.8236\n",
      "G: 0.1252\n",
      "N: 0.8541\n",
      "Y/N: 0.964\n",
      "E: 0.7668\n",
      "w: -0.0679\n",
      "r: 0.1365\n"
     ]
    }
   ],
   "source": [
    "# contemporaneous correlation with output\n",
    "for key in output_trunc:\n",
    "    if key == 'r_trunc':\n",
    "        print(key, ': ', round(np.corrcoef(output_trunc[key], output_trunc['Y_trunc'][30:])[0, 1], 4), sep = '')\n",
    "    else:\n",
    "        print(key, ': ', round(np.corrcoef(output_trunc[key], output_trunc['Y_trunc'])[0, 1], 4), sep = '')\n",
    "print()\n",
    "for key in output:\n",
    "    if key == 'r':\n",
    "        print(key, ': ', round(np.corrcoef(output[key], output['Y'][30:])[0, 1], 4), sep = '')\n",
    "    else:\n",
    "        print(key, ': ', round(np.corrcoef(output[key], output['Y'])[0, 1], 4), sep = '')"
   ]
  },
  {
   "cell_type": "markdown",
   "id": "596c841b",
   "metadata": {},
   "source": [
    "# Question 2"
   ]
  },
  {
   "cell_type": "markdown",
   "id": "81455f70",
   "metadata": {},
   "source": [
    "### Part 1"
   ]
  },
  {
   "cell_type": "code",
   "execution_count": null,
   "id": "ba4b8cd7",
   "metadata": {},
   "outputs": [],
   "source": [
    "@simple\n",
    "def firm(K, n, a, alpha, delta):    \n",
    "    r = alpha * a * (K(-1) / n) ** (alpha-1) - delta\n",
    "    w = (1 - alpha) * a * (K(-1) / n) ** alpha\n",
    "    Y = a * K(-1) ** alpha * n ** (1 - alpha)\n",
    "    return r, w, Y\n",
    "\n",
    "@simple\n",
    "def household(K, n, w, eis, frisch, b, delta):    \n",
    "    C = (w / b / n ** (1 / frisch)) ** eis\n",
    "    I = K - (1 - delta) * K(-1)\n",
    "    return C, I\n",
    "\n",
    "@simple\n",
    "def mkt_clearing(r, C, Y, I, K, n, w, eis, beta):\n",
    "    goods_mkt = Y - C - I\n",
    "    euler = C ** (-1 / eis) - beta * (1 + r(+1)) * C(+1) ** (-1 / eis)\n",
    "    walras = C + K - (1 + r) * K(-1) - w * n\n",
    "    \n",
    "    capital_output_r = K/Y - 14.\n",
    "    invest_output_r = I/Y - 0.25\n",
    "    \n",
    "    labor = n - 0.3333333\n",
    "    \n",
    "    return goods_mkt, euler, walras, capital_output_r, invest_output_r, labor"
   ]
  },
  {
   "cell_type": "code",
   "execution_count": null,
   "id": "fd9c43d0",
   "metadata": {},
   "outputs": [],
   "source": [
    "sigma = 0.01\n",
    "eps = np.random.normal(0, sigma, 200)"
   ]
  },
  {
   "cell_type": "code",
   "execution_count": null,
   "id": "f5a69eff",
   "metadata": {},
   "outputs": [],
   "source": [
    "rbc = create_model([household, firm, mkt_clearing], name=\"rbc_problem_input_a\")"
   ]
  },
  {
   "cell_type": "code",
   "execution_count": null,
   "id": "b7e4dc0a",
   "metadata": {},
   "outputs": [],
   "source": [
    "from sequence_jacobian import drawdag\n",
    "\n",
    "unknowns = [\"K\", \"n\"]\n",
    "targets = [\"euler\", \"goods_mkt\"]\n",
    "inputs = [\"a\"]\n",
    "\n",
    "drawdag(rbc, inputs, unknowns, targets)"
   ]
  },
  {
   "cell_type": "code",
   "execution_count": null,
   "id": "8e2f30e1",
   "metadata": {},
   "outputs": [],
   "source": [
    "# calibration: known parameter values\n",
    "# unknowns: K, n, unknown paramenter values (b, beta, delta)\n",
    "# targets: Euler equation, market-clearing condition, K/Y = 14, I/Y = 0.25, n = 1/3\n",
    "\n",
    "calibration = {\"eis\": 0.5, \"frisch\": 1., \"alpha\": 0.33, \"rho\": 0.9, \"a\": 1.}\n",
    "unknowns_ss = {\"b\": 0.9, \"beta\": 0.9,  \"delta\": 0.2, \"K\": 3., \"n\": 0.33}\n",
    "targets_ss = {\"goods_mkt\": 0., \"euler\": 0., \"capital_output_r\": 0., \"invest_output_r\": 0., \"labor\": 0.}\n",
    "\n",
    "ss = rbc.solve_steady_state(calibration, unknowns_ss, targets_ss, solver = \"hybr\")"
   ]
  },
  {
   "cell_type": "code",
   "execution_count": null,
   "id": "a87e0bcd",
   "metadata": {},
   "outputs": [],
   "source": [
    "for key, value in ss.items():\n",
    "    print(key, value)"
   ]
  },
  {
   "cell_type": "code",
   "execution_count": null,
   "id": "d0671a7e",
   "metadata": {},
   "outputs": [],
   "source": [
    "print(f\"Goods market clearing: {ss['goods_mkt']},\\nEuler equation: {ss['euler']},\\nWalras: {ss['walras']}\")"
   ]
  },
  {
   "cell_type": "code",
   "execution_count": null,
   "id": "4ba33755",
   "metadata": {},
   "outputs": [],
   "source": [
    "unknowns = ['K', 'n']\n",
    "targets = ['euler', 'goods_mkt']\n",
    "inputs = ['a']\n",
    "\n",
    "G = rbc.solve_jacobian(ss, unknowns, targets, inputs, T=200)"
   ]
  },
  {
   "cell_type": "code",
   "execution_count": null,
   "id": "b2f88d0a",
   "metadata": {},
   "outputs": [],
   "source": [
    "T, impact, rho = 200, 0.01, 0.9\n",
    "da = np.zeros((T, 2))\n",
    "da[0, 0] = impact * ss['a']\n",
    "da[:, 1] = impact * ss['a'] * rho**np.arange(T)"
   ]
  },
  {
   "cell_type": "code",
   "execution_count": null,
   "id": "d0b7aeba",
   "metadata": {},
   "outputs": [],
   "source": [
    "var_list = [\"Y\", \"n\", \"C\", \"I\", \"K\", \"w\", \"r\"]"
   ]
  },
  {
   "cell_type": "code",
   "execution_count": null,
   "id": "daa285c9",
   "metadata": {
    "scrolled": false
   },
   "outputs": [],
   "source": [
    "for var in var_list:\n",
    "    dVal = 100 * G[var]['a'] @ da / ss[var]\n",
    "    plt.plot(dVal[:50, 1], linewidth=2.5)\n",
    "    plt.title(f'{var} response to TFP shocks')\n",
    "    plt.ylabel('% deviation from ss')\n",
    "    plt.xlabel('quarters')\n",
    "    plt.show()"
   ]
  },
  {
   "cell_type": "markdown",
   "id": "43eafac3",
   "metadata": {},
   "source": [
    "### Part 2"
   ]
  },
  {
   "cell_type": "markdown",
   "id": "c9347307",
   "metadata": {},
   "source": [
    "First, let us construct a class to hold information about each simulation"
   ]
  },
  {
   "cell_type": "code",
   "execution_count": null,
   "id": "a7ea27d3",
   "metadata": {},
   "outputs": [],
   "source": [
    "import math\n",
    "PERIODS = 200\n",
    "BURN = 50\n",
    "IMPACT = impact\n",
    "RHO = rho\n",
    "\n",
    "class Economy():\n",
    "    def __init__(self, g_matrix, steady_state):\n",
    "        # Get impulse response matrix and steady state from toolbox\n",
    "        self.g_matrix = g_matrix \n",
    "        self.steady_state = steady_state\n",
    "\n",
    "        # Create a list of iid shocks\n",
    "        self.epsilon_list = np.random.normal(0, IMPACT, PERIODS + BURN)\n",
    "        self.burned_epsilons = self.epsilon_list[BURN:]\n",
    "\n",
    "        # Generate list of as given epsilons\n",
    "        self.a_list = self.convert_epsilons_to_as(self.epsilon_list)\n",
    "        self.burned_as = self.a_list[BURN:]\n",
    "\n",
    "        # Generate a list of das given as\n",
    "        # Note: da_list[0] = None because there is no lag for period 0\n",
    "        self.da_list = [None] + [self.a_list[i] - self.a_list[i-1] for i in range(1, PERIODS + BURN)]\n",
    "        self.burned_das = self.da_list[BURN:]\n",
    "\n",
    "        # Generate sequences for capital, consumption, output, and labor\n",
    "        self.K_list = self.simulate_sequence('K')\n",
    "        self.burned_Ks = self.K_list[BURN:]\n",
    "\n",
    "        self.C_list = self.simulate_sequence('C')\n",
    "        self.burned_Cs = self.C_list[BURN:]\n",
    "\n",
    "        self.Y_list = self.simulate_sequence('Y')\n",
    "        self.burned_Ys = self.Y_list[BURN:]\n",
    "\n",
    "        self.n_list = self.simulate_sequence('n')\n",
    "        self.burned_ns = self.n_list[BURN:]\n",
    "\n",
    "        self.w_list = self.simulate_sequence('w')\n",
    "        self.burned_ws = self.w_list[BURN:]\n",
    "\n",
    "        self.r_list = self.simulate_sequence('r')\n",
    "        self.burned_rs = self.r_list[BURN:]\n",
    "\n",
    "        self.I_list = self.simulate_sequence('I')\n",
    "        self.burned_Is = self.I_list[BURN:]\n",
    "\n",
    "    def convert_epsilons_to_as(self, epsilon_list):\n",
    "        \"\"\"\n",
    "        Given a sequence of iid normal shocks, generates an AR(1) process\n",
    "        representing log of a. \n",
    "        \"\"\"\n",
    "        lna_list = np.zeros(PERIODS + BURN)\n",
    "        lna_list[0] = self.steady_state['a']\n",
    "        for i in range(1, PERIODS + BURN):\n",
    "            lna_list[i] = lna_list[i-1] * RHO + epsilon_list[i]\n",
    "        return [math.exp(lna) for lna in lna_list]\n",
    "    \n",
    "    def simulate_sequence(self, variable):\n",
    "        \"\"\"\n",
    "        Given a variable, generates a sequence of values for that variable\n",
    "        \"\"\"\n",
    "        sequence = np.zeros(PERIODS + BURN)\n",
    "        sequence[0] = self.steady_state[variable]\n",
    "        for i in range(1, PERIODS + BURN):\n",
    "            sequence[i] = sequence[i-1] + self.g_matrix[variable]['a'][i-1] * self.da_list[i]\n",
    "        return sequence\n",
    "    \n",
    "    # Now we do getters for the burned sequences\n",
    "    def get_burned_Ks(self):\n",
    "        return self.burned_Ks\n",
    "    \n",
    "    def get_burned_Cs(self):\n",
    "        return self.burned_Cs\n",
    "    \n",
    "    def get_burned_Ys(self):\n",
    "        return self.burned_Ys\n",
    "    \n",
    "    def get_burned_ns(self):\n",
    "        return self.burned_ns\n",
    "    \n",
    "    def get_burned_as(self):\n",
    "        return self.burned_as\n",
    "    \n",
    "    def get_burned_das(self):\n",
    "        return self.burned_das\n",
    "    \n",
    "    def get_burned_epsilons(self):\n",
    "        return self.burned_epsilons\n",
    "    \n",
    "    def get_burned_ws(self):\n",
    "        return self.burned_ws\n",
    "    \n",
    "    def get_burned_rs(self):\n",
    "        return self.burned_rs\n",
    "    \n",
    "    def get_burned_Is(self):\n",
    "        return self.burned_Is\n",
    "    \n",
    "Economy(G, ss)"
   ]
  },
  {
   "cell_type": "markdown",
   "id": "6f5b3747",
   "metadata": {},
   "source": [
    "Now that we have our simulation class defined, we can generate 100 of them as desired"
   ]
  },
  {
   "cell_type": "code",
   "execution_count": null,
   "id": "39d5a3db",
   "metadata": {},
   "outputs": [],
   "source": [
    "simulations = []\n",
    "for i in range(100):\n",
    "    e = Economy(G, ss)\n",
    "    simulations.append(e)"
   ]
  }
 ],
 "metadata": {
  "kernelspec": {
   "display_name": "Python 3 (ipykernel)",
   "language": "python",
   "name": "python3"
  },
  "language_info": {
   "codemirror_mode": {
    "name": "ipython",
    "version": 3
   },
   "file_extension": ".py",
   "mimetype": "text/x-python",
   "name": "python",
   "nbconvert_exporter": "python",
   "pygments_lexer": "ipython3",
   "version": "3.10.6"
  }
 },
 "nbformat": 4,
 "nbformat_minor": 5
}
