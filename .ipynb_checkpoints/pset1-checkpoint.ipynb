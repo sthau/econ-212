{
 "cells": [
  {
   "cell_type": "code",
   "execution_count": 1,
   "id": "47bf3940",
   "metadata": {},
   "outputs": [],
   "source": [
    "from fredapi import Fred\n",
    "from scipy.optimize import fsolve\n",
    "from sequence_jacobian import simple, create_model\n",
    "from sequence_jacobian.utilities.drawdag import drawdag\n",
    "from statsmodels.tsa.filters.hp_filter import hpfilter\n",
    "import numpy as np\n",
    "import matplotlib.pyplot as plt\n",
    "import pandas as pd"
   ]
  },
  {
   "cell_type": "code",
   "execution_count": 2,
   "id": "6e6f43fa",
   "metadata": {},
   "outputs": [],
   "source": [
    "fred = Fred(api_key = 'f6fa4f544be19c2ea791e9a3240470bf')"
   ]
  },
  {
   "cell_type": "markdown",
   "id": "b98509d7",
   "metadata": {},
   "source": [
    "# Question 1"
   ]
  },
  {
   "cell_type": "markdown",
   "id": "6757d775",
   "metadata": {},
   "source": [
    "### Part 1"
   ]
  },
  {
   "cell_type": "code",
   "execution_count": 3,
   "id": "ad0a2baf",
   "metadata": {},
   "outputs": [],
   "source": [
    "# function for returning HP-filtered logged data series\n",
    "def get_detrended_data(start_date, end_date, monthly_end_date, lamb):\n",
    "    \n",
    "    Y = fred.get_series('GDPC1', observation_start = start_date, observation_end = end_date)\n",
    "    Y_log = np.log(fred.get_series('GDPC1', observation_start = start_date, observation_end = end_date)) * 100\n",
    "\n",
    "    # deflator for consumption series\n",
    "    defl = fred.get_series('PCECTPI', observation_start = start_date, observation_end = end_date)\n",
    "\n",
    "    # convert nominal consumption series to real\n",
    "    C_log = np.log(fred.get_series('PCEC', observation_start = start_date, observation_end = end_date) / defl) * 100\n",
    "    Cd_log = np.log(fred.get_series('PCDG', observation_start = start_date, observation_end = end_date) / defl) * 100\n",
    "    Cn_log = np.log(fred.get_series('PCND', observation_start = start_date, observation_end = end_date) / defl) * 100\n",
    "\n",
    "    I_log = np.log(fred.get_series('GPDIC1', observation_start = start_date, observation_end = end_date)) * 100\n",
    "    G_log = np.log(fred.get_series('GCEC1', observation_start = start_date, observation_end = end_date)) * 100\n",
    "\n",
    "    # total hours = weekly hours * employment\n",
    "    H = fred.get_series('PRS85006023', observation_start = start_date, observation_end = end_date)\n",
    "    E = fred.get_series('PAYEMS', observation_start = start_date, observation_end = monthly_end_date)\n",
    "    E_quarterly = np.mean(np.reshape(E, (3, len(E) // 3), order = 'F'), axis = 0)\n",
    "    E_log = np.log(E_quarterly) * 100\n",
    "    N_log = np.log(H * E_quarterly) * 100\n",
    "\n",
    "    YN_log = np.log(Y / H) * 100\n",
    "\n",
    "    # convert nominal wages to real\n",
    "    w_log = np.log(fred.get_series('COMPNFB', observation_start = start_date, observation_end = end_date) / defl) * 100\n",
    "\n",
    "    # real interest rate = federal funds rate - realized inflation\n",
    "    ffr = fred.get_series('FEDFUNDS', observation_start = start_date, observation_end = monthly_end_date)\n",
    "    ffr_quarterly = np.mean(np.reshape(ffr, (3, len(ffr) // 3), order = 'F'), axis = 0)\n",
    "    #r = ffr_quarterly - (np.diff(np.log(defl)) * 100)[29:]\n",
    "    r = ffr_quarterly[1:] - (np.diff(np.log(defl)) * 100)\n",
    "    \n",
    "    output = [Y_log, C_log, Cd_log, Cn_log, I_log, G_log, N_log, YN_log, E_log, w_log]\n",
    "    \n",
    "    # detrend everything except for r using HP filter\n",
    "    for i in range(len(output)):\n",
    "        output[i] = hpfilter(output[i], lamb = lamb)[0]\n",
    "    \n",
    "    return output, r"
   ]
  },
  {
   "cell_type": "code",
   "execution_count": 4,
   "id": "c8051977",
   "metadata": {},
   "outputs": [],
   "source": [
    "# 1959Q1 to 2019Q4\n",
    "[Y_trunc, C_trunc, Cd_trunc, Cn_trunc, I_trunc, \n",
    " G_trunc, N_trunc, YN_trunc, E_trunc, w_trunc], r_trunc = get_detrended_data('1959-01-01', '2019-10-01', \n",
    "                                                                             '2019-12-01', 1600)\n",
    "output_trunc = {'Y_trunc': Y_trunc, \n",
    "                'C_trunc': C_trunc, \n",
    "                'Cd_trunc': Cd_trunc,\n",
    "                'Cn_trunc': Cn_trunc, \n",
    "                'I_trunc': I_trunc, \n",
    "                'G_trunc': G_trunc, \n",
    "                'N_trunc': N_trunc, \n",
    "                'Y/N_trunc': YN_trunc, \n",
    "                'E_trunc': E_trunc, \n",
    "                'w_trunc': w_trunc, \n",
    "                'r_trunc': r_trunc}\n",
    "\n",
    "# bonus: 1959Q1 to 2021Q4\n",
    "[Y, C, Cd, Cn, I, G, N, YN, E, w], r = get_detrended_data('1959-01-01', '2021-10-01', '2021-12-01', 1600)\n",
    "output = {'Y': Y, \n",
    "          'C': C, \n",
    "          'Cd': Cd, \n",
    "          'Cn': Cn, \n",
    "          'I': I, \n",
    "          'G': G, \n",
    "          'N': N, \n",
    "          'Y/N': YN, \n",
    "          'E': E, \n",
    "          'w': w, \n",
    "          'r': r}"
   ]
  },
  {
   "cell_type": "code",
   "execution_count": 5,
   "id": "b872c19b",
   "metadata": {},
   "outputs": [
    {
     "name": "stdout",
     "output_type": "stream",
     "text": [
      "Y_trunc: 1.4307\n",
      "C_trunc: 1.1531\n",
      "Cd_trunc: 4.176\n",
      "Cn_trunc: 1.4061\n",
      "I_trunc: 6.45\n",
      "G_trunc: 1.4968\n",
      "N_trunc: 1.5416\n",
      "Y/N_trunc: 1.1435\n",
      "E_trunc: 1.2553\n",
      "w_trunc: 0.9018\n",
      "r_trunc: 3.2153\n",
      "\n",
      "Y: 1.5532\n",
      "C: 1.3841\n",
      "Cd: 4.4052\n",
      "Cn: 1.5129\n",
      "I: 6.4757\n",
      "G: 1.4852\n",
      "N: 1.7764\n",
      "Y/N: 1.2412\n",
      "E: 1.4802\n",
      "w: 0.9966\n",
      "r: 3.2771\n"
     ]
    }
   ],
   "source": [
    "# standard deviation\n",
    "stdev_trunc = {}\n",
    "for key in output_trunc:\n",
    "    stdev_trunc[key] = np.std(output_trunc[key])\n",
    "    print(key, ': ', round(stdev_trunc[key], 4), sep = '')\n",
    "print()\n",
    "stdev = {}\n",
    "for key in output:\n",
    "    stdev[key] = np.std(output[key])\n",
    "    print(key, ': ', round(stdev[key], 4), sep = '')"
   ]
  },
  {
   "cell_type": "code",
   "execution_count": 6,
   "id": "741d3cd0",
   "metadata": {},
   "outputs": [
    {
     "name": "stdout",
     "output_type": "stream",
     "text": [
      "Y_trunc: 1.0\n",
      "C_trunc: 0.806\n",
      "Cd_trunc: 2.9189\n",
      "Cn_trunc: 0.9828\n",
      "I_trunc: 4.5084\n",
      "G_trunc: 1.0463\n",
      "N_trunc: 1.0775\n",
      "Y/N_trunc: 0.7993\n",
      "E_trunc: 0.8774\n",
      "w_trunc: 0.6304\n",
      "r_trunc: 2.2474\n",
      "\n",
      "Y: 1.0\n",
      "C: 0.8911\n",
      "Cd: 2.8362\n",
      "Cn: 0.974\n",
      "I: 4.1693\n",
      "G: 0.9562\n",
      "N: 1.1437\n",
      "Y/N: 0.7991\n",
      "E: 0.953\n",
      "w: 0.6416\n",
      "r: 2.1099\n"
     ]
    }
   ],
   "source": [
    "# relative standard deviation with respect to output\n",
    "for key in output_trunc:\n",
    "    print(key, ': ', round(stdev_trunc[key] / stdev_trunc['Y_trunc'], 4), sep = '')\n",
    "print()\n",
    "for key in output:\n",
    "    print(key, ': ', round(stdev[key] / stdev['Y'], 4), sep = '')"
   ]
  },
  {
   "cell_type": "code",
   "execution_count": 7,
   "id": "70bfda97",
   "metadata": {},
   "outputs": [
    {
     "name": "stdout",
     "output_type": "stream",
     "text": [
      "Y_trunc: 0.8639\n",
      "C_trunc: 0.8748\n",
      "Cd_trunc: 0.7883\n",
      "Cn_trunc: 0.8238\n",
      "I_trunc: 0.8243\n",
      "G_trunc: 0.8389\n",
      "N_trunc: 0.9221\n",
      "Y/N_trunc: 0.8422\n",
      "E_trunc: 0.943\n",
      "w_trunc: 0.6995\n",
      "r_trunc: 0.9604\n",
      "\n",
      "Y: 0.7684\n",
      "C: 0.7189\n",
      "Cd: 0.7742\n",
      "Cn: 0.7617\n",
      "I: 0.8021\n",
      "G: 0.8331\n",
      "N: 0.7819\n",
      "Y/N: 0.746\n",
      "E: 0.7839\n",
      "w: 0.6636\n",
      "r: 0.9624\n"
     ]
    }
   ],
   "source": [
    "# first-order autocorrelation\n",
    "for key in output_trunc:\n",
    "    print(key, ': ', round(np.corrcoef(output_trunc[key][1:], \n",
    "                                       output_trunc[key][0:-1])[0, 1], 4), sep = '')\n",
    "print()\n",
    "for key in output:\n",
    "    print(key, ': ', round(np.corrcoef(output[key][1:], output[key][0:-1])[0, 1], 4), sep = '')"
   ]
  },
  {
   "cell_type": "code",
   "execution_count": 8,
   "id": "9ea00755",
   "metadata": {},
   "outputs": [
    {
     "name": "stdout",
     "output_type": "stream",
     "text": [
      "Y_trunc: 1.0\n",
      "C_trunc: 0.873\n",
      "Cd_trunc: 0.7693\n",
      "Cn_trunc: 0.6668\n",
      "I_trunc: 0.9018\n",
      "G_trunc: -0.0069\n",
      "N_trunc: 0.8749\n",
      "Y/N_trunc: 0.9492\n",
      "E_trunc: 0.7993\n",
      "w_trunc: 0.0862\n",
      "r_trunc: 0.1827\n",
      "\n",
      "Y: 1.0\n",
      "C: 0.8867\n",
      "Cd: 0.702\n",
      "Cn: 0.6863\n",
      "I: 0.8814\n",
      "G: -0.0499\n",
      "N: 0.8895\n",
      "Y/N: 0.9564\n",
      "E: 0.8202\n",
      "w: -0.1063\n",
      "r: 0.1655\n"
     ]
    }
   ],
   "source": [
    "# contemporaneous correlation with output\n",
    "for key in output_trunc:\n",
    "    if key == 'r_trunc':\n",
    "        print(key, ': ', round(np.corrcoef(output_trunc[key], output_trunc['Y_trunc'][1:])[0, 1], 4), sep = '')\n",
    "    else:\n",
    "        print(key, ': ', round(np.corrcoef(output_trunc[key], output_trunc['Y_trunc'])[0, 1], 4), sep = '')\n",
    "print()\n",
    "for key in output:\n",
    "    if key == 'r':\n",
    "        print(key, ': ', round(np.corrcoef(output[key], output['Y'][1:])[0, 1], 4), sep = '')\n",
    "    else:\n",
    "        print(key, ': ', round(np.corrcoef(output[key], output['Y'])[0, 1], 4), sep = '')"
   ]
  },
  {
   "cell_type": "markdown",
   "id": "4f36579b",
   "metadata": {},
   "source": [
    "### Part 2"
   ]
  },
  {
   "cell_type": "code",
   "execution_count": 9,
   "id": "c40018c2",
   "metadata": {},
   "outputs": [],
   "source": [
    "def get_data(start_date, end_date):\n",
    "    \n",
    "    # real GDP\n",
    "    Y = fred.get_series('GDPC1', observation_start = start_date, observation_end = end_date)\n",
    "    \n",
    "    # deflator for consumption series\n",
    "    defl_c = fred.get_series('PCECTPI', observation_start = start_date, observation_end = end_date)\n",
    "    \n",
    "    # deflate housing\n",
    "    H = fred.get_series('DHUTRC1Q027SBEA', observation_start = start_date, observation_end = end_date) / defl_c * 100\n",
    "    \n",
    "    # real government expenditures\n",
    "    G = fred.get_series('GCEC1', observation_start = start_date, observation_end = end_date)\n",
    "    \n",
    "    # real private output\n",
    "    Y_private = Y - H - G\n",
    "    \n",
    "    # deflator for investment series\n",
    "    defl_i = fred.get_series('A008RD3Q086SBEA', observation_start = start_date, observation_end = end_date)\n",
    "    \n",
    "    # private investment (no housing) - de-annualize and deflate private investment\n",
    "    I = fred.get_series('PNFI', observation_start = start_date, observation_end = end_date) / 4 / defl_i * 100\n",
    "    \n",
    "    # annual private capital stock (no housing)\n",
    "    K = fred.get_series('K1NTOTL1ES000', observation_start = start_date, observation_end = end_date)\n",
    "    \n",
    "    # annualize investment deflator\n",
    "    annual_delf_i = np.mean(np.reshape(defl_i, (4, len(defl_i) // 4), order = 'F'), axis = 0)\n",
    "    \n",
    "    # deflate capital\n",
    "    if len(K) == len(annual_delf_i):\n",
    "        K_defl = K / annual_delf_i * 100\n",
    "    else:\n",
    "        K_defl = K / annual_delf_i[0:-1] * 100\n",
    "    \n",
    "    return Y_private, I, K_defl"
   ]
  },
  {
   "cell_type": "code",
   "execution_count": 10,
   "id": "0e25802a",
   "metadata": {},
   "outputs": [],
   "source": [
    "# just going to deal with 1959Q1 going forward because housing data is limited in that respect\n",
    "\n",
    "# series up to 2019Q4\n",
    "Y_private_trunc, I_private_trunc, K_private_trunc = get_data('1959-01-01', '2019-10-01')\n",
    "\n",
    "# bonus: series up to 2021Q4 - private capital stock data was last reported for 2021\n",
    "Y_private, I_private, K_private = get_data('1959-01-01', '2021-10-01')"
   ]
  },
  {
   "cell_type": "code",
   "execution_count": 11,
   "id": "9827c34c",
   "metadata": {},
   "outputs": [],
   "source": [
    "# private payrolls to get N (average monthly data to get quarterly)\n",
    "def get_N(start_date, end_date):\n",
    "    N = fred.get_series('USPRIV', observation_start = start_date, observation_end = end_date)\n",
    "    return np.mean(np.reshape(N, (3, len(N) // 3), order = 'F'), axis = 0)\n",
    "\n",
    "# series up to 2019Q4\n",
    "N_private_trunc = get_N('1959-01-01', '2019-12-01')\n",
    "\n",
    "# bonus: series up to 2021Q4\n",
    "N_private = get_N('1959-01-01', '2021-12-01')"
   ]
  },
  {
   "cell_type": "markdown",
   "id": "db7c66cb",
   "metadata": {},
   "source": [
    "### Part 3"
   ]
  },
  {
   "cell_type": "code",
   "execution_count": 12,
   "id": "8225dae4",
   "metadata": {},
   "outputs": [],
   "source": [
    "def get_quarterly_capital(I, K):\n",
    "    \n",
    "    def depr_solve(delta):\n",
    "        return (1 - delta)**4 * k0 + (1 - delta)**3 * i1 + (1 - delta)**2 * i2 + (1 - delta) * i3 + i4 - k1\n",
    "    \n",
    "    # reshape private investment vector to be a matrix of quarters by year\n",
    "    I_mat = np.reshape(I, (4, len(I) // 4), order = 'F')\n",
    "    \n",
    "    # solve for depreciation rate in each year using Levy and Chen (1994)\n",
    "    delta_vec = np.array([])\n",
    "    for i in range(1, len(K)):\n",
    "        k0, k1 = K[i - 1], K[i]\n",
    "        i1, i2, i3, i4 = I_mat[:, i]\n",
    "        delta_vec = np.append(delta_vec, fsolve(depr_solve, 0.01))\n",
    "\n",
    "    # force any negative solutions for the depreciation rate to be zero\n",
    "    delta_vec[delta_vec < 0] = 0\n",
    "    \n",
    "    # generate quarterly capital series using Levy and Chen (1994)\n",
    "    K_quarterly = np.array([])\n",
    "    for i in range(len(delta_vec)):\n",
    "        I1, I2, I3, I4 = I_mat[:, i + 1]\n",
    "        K1 = (1 - delta_vec[i]) * K[i] + I1\n",
    "        K2 = (1 - delta_vec[i]) * K1 + I2\n",
    "        K3 = (1 - delta_vec[i]) * K2 + I3\n",
    "        K4 = (1 - delta_vec[i]) * K3 + I4\n",
    "        K_quarterly = np.append(K_quarterly, [K1, K2, K3, K4])\n",
    "    \n",
    "    return delta_vec, K_quarterly"
   ]
  },
  {
   "cell_type": "code",
   "execution_count": 13,
   "id": "9fcdc649",
   "metadata": {},
   "outputs": [],
   "source": [
    "# 1960Q1 to 2019Q4\n",
    "depr_trunc, Kq_trunc = get_quarterly_capital(I_private_trunc, K_private_trunc)\n",
    "\n",
    "# 1960Q1 to 2021Q4\n",
    "depr, Kq = get_quarterly_capital(I_private, K_private)"
   ]
  },
  {
   "cell_type": "code",
   "execution_count": 14,
   "id": "3064e7c1",
   "metadata": {},
   "outputs": [
    {
     "name": "stdout",
     "output_type": "stream",
     "text": [
      "mean: 0.0167 \n",
      "median: 0.016 \n",
      "stdev: 0.0042 \n",
      "min: 0.0016 \n",
      "max: 0.0301\n"
     ]
    }
   ],
   "source": [
    "print('mean:', round(np.mean(depr_trunc), 4),\n",
    "      '\\nmedian:', round(np.median(depr_trunc), 4), \n",
    "      '\\nstdev:', round(np.std(depr_trunc), 4), \n",
    "      '\\nmin:', round(np.min(depr_trunc), 4), \n",
    "      '\\nmax:', round(np.max(depr_trunc), 4))"
   ]
  },
  {
   "cell_type": "code",
   "execution_count": 15,
   "id": "43e75c94",
   "metadata": {},
   "outputs": [
    {
     "name": "stdout",
     "output_type": "stream",
     "text": [
      "mean: 0.0165 \n",
      "median: 0.016 \n",
      "stdev: 0.0046 \n",
      "min: 0.0015 \n",
      "max: 0.0301\n"
     ]
    }
   ],
   "source": [
    "print('mean:', round(np.mean(depr), 4),\n",
    "      '\\nmedian:', round(np.median(depr), 4), \n",
    "      '\\nstdev:', round(np.std(depr), 4), \n",
    "      '\\nmin:', round(np.min(depr), 4), \n",
    "      '\\nmax:', round(np.max(depr), 4))"
   ]
  },
  {
   "cell_type": "code",
   "execution_count": 16,
   "id": "4d50e3fb",
   "metadata": {},
   "outputs": [
    {
     "data": {
      "text/plain": [
       "[<matplotlib.lines.Line2D at 0x137c5e710>]"
      ]
     },
     "execution_count": 16,
     "metadata": {},
     "output_type": "execute_result"
    },
    {
     "data": {
      "image/png": "[encoded data removed]",
      "text/plain": [
       "<Figure size 640x480 with 1 Axes>"
      ]
     },
     "metadata": {},
     "output_type": "display_data"
    }
   ],
   "source": [
    "plt.plot(depr_trunc)"
   ]
  },
  {
   "cell_type": "code",
   "execution_count": 17,
   "id": "a683bcba",
   "metadata": {
    "scrolled": false
   },
   "outputs": [
    {
     "data": {
      "text/plain": [
       "[<matplotlib.lines.Line2D at 0x137d3f400>]"
      ]
     },
     "execution_count": 17,
     "metadata": {},
     "output_type": "execute_result"
    },
    {
     "data": {
      "image/png": "[encoded data removed]",
      "text/plain": [
       "<Figure size 640x480 with 1 Axes>"
      ]
     },
     "metadata": {},
     "output_type": "display_data"
    }
   ],
   "source": [
    "plt.plot(depr)"
   ]
  },
  {
   "cell_type": "markdown",
   "id": "298f15bf",
   "metadata": {},
   "source": [
    "### Part 4 - TO DO"
   ]
  },
  {
   "cell_type": "code",
   "execution_count": null,
   "id": "30053d04",
   "metadata": {},
   "outputs": [],
   "source": [
    "# insert"
   ]
  },
  {
   "cell_type": "markdown",
   "id": "adac6dde",
   "metadata": {},
   "source": [
    "### Part 5"
   ]
  },
  {
   "cell_type": "code",
   "execution_count": 18,
   "id": "f4a9cea0",
   "metadata": {},
   "outputs": [],
   "source": [
    "# capital share\n",
    "alpha = 0.33\n",
    "\n",
    "# Y and N start in 1959Q1, but we need to cut until 1960Q2 because K starts in 1960Q1\n",
    "Y_pt, Y_p = Y_private_trunc[5:], Y_private[5:]\n",
    "N_pt, N_p = N_private_trunc[5:], N_private[5:]\n",
    "\n",
    "# because K is lagged, need to cut off at 2019/21Q4\n",
    "K_qt, K_q = Kq_trunc[:-1], Kq[:-1]\n",
    "\n",
    "# 1960Q2 to 2019Q4\n",
    "log_A_trunc = np.zeros(len(K_qt))\n",
    "for i in range(len(K_qt)):\n",
    "    log_A_trunc[i] = np.log(Y_pt[i]) - alpha * np.log(K_qt[i]) - (1 - alpha) * np.log(N_pt[i])\n",
    "\n",
    "# 1960Q2 to 2021Q4\n",
    "log_A = np.zeros(len(K_q))\n",
    "for i in range(len(K_q)):\n",
    "    log_A[i] = np.log(Y_p[i]) - alpha * np.log(K_q[i]) - (1 - alpha) * np.log(N_p[i])\n",
    "\n",
    "# detrend\n",
    "A_trunc = hpfilter(log_A_trunc * 100, lamb = 1600)[0]\n",
    "A = hpfilter(log_A * 100, lamb = 1600)[0]"
   ]
  },
  {
   "cell_type": "code",
   "execution_count": 19,
   "id": "7905443e",
   "metadata": {},
   "outputs": [
    {
     "name": "stdout",
     "output_type": "stream",
     "text": [
      "A_trunc: 1.8044 \n",
      "A: 1.8492\n"
     ]
    }
   ],
   "source": [
    "# standard deviation\n",
    "print('A_trunc:', round(np.std(A_trunc), 4), \n",
    "      '\\nA:', round(np.std(A), 4))"
   ]
  },
  {
   "cell_type": "code",
   "execution_count": 20,
   "id": "f031a861",
   "metadata": {},
   "outputs": [
    {
     "name": "stdout",
     "output_type": "stream",
     "text": [
      "A_trunc: 1.2613 \n",
      "A: 1.1906\n"
     ]
    }
   ],
   "source": [
    "# relative standard deviation with respect to output\n",
    "print('A_trunc:', round(np.std(A_trunc) / stdev_trunc['Y_trunc'], 4), \n",
    "      '\\nA:', round(np.std(A) / stdev['Y'], 4))"
   ]
  },
  {
   "cell_type": "code",
   "execution_count": 21,
   "id": "5d063686",
   "metadata": {},
   "outputs": [
    {
     "name": "stdout",
     "output_type": "stream",
     "text": [
      "A_trunc: 0.8294 \n",
      "A: 0.7897\n"
     ]
    }
   ],
   "source": [
    "# first-order autocorrelation\n",
    "print('A_trunc:', round(np.corrcoef(A_trunc[1:], A_trunc[0:-1])[0, 1], 4), \n",
    "      '\\nA:', round(np.corrcoef(A[1:], A[0:-1])[0, 1], 4))"
   ]
  },
  {
   "cell_type": "code",
   "execution_count": 22,
   "id": "d911e48f",
   "metadata": {},
   "outputs": [
    {
     "name": "stdout",
     "output_type": "stream",
     "text": [
      "A_trunc: 0.7663 \n",
      "A: 0.7645\n"
     ]
    }
   ],
   "source": [
    "# contemporaneous correlation with output\n",
    "print('A_trunc:', round(np.corrcoef(A_trunc,  output_trunc['Y_trunc'][5:])[0, 1], 4), \n",
    "      '\\nA:', round(np.corrcoef(A, output['Y'][5:])[0, 1], 4))"
   ]
  },
  {
   "cell_type": "markdown",
   "id": "ba19b8ea",
   "metadata": {},
   "source": [
    "### Part 6"
   ]
  },
  {
   "cell_type": "code",
   "execution_count": 23,
   "id": "97737fe0",
   "metadata": {},
   "outputs": [],
   "source": [
    "# import data from excel file - just date and dtfp_util columns\n",
    "df = pd.read_excel('quarterly_tfp.xlsx', sheet_name = 'quarterly', header = 1,\n",
    "                   index_col = 0, skiprows = range(306, 312))\n",
    "\n",
    "# 1960Q2 to 2019Q4 (adjustment as described in paper)\n",
    "tfp_trunc = np.cumsum(df['dtfp_util']['1960:Q2':'2019:Q4']) / 400\n",
    "\n",
    "# 1960Q2 to 2021Q4 (adjustment as described in paper)\n",
    "tfp = np.cumsum(df['dtfp_util']['1960:Q2':'2021:Q4']) / 400\n",
    "\n",
    "# use A[0] from part 5 as starting value for series\n",
    "A_star_trunc = np.exp(log_A_trunc[0]) * np.exp(tfp_trunc)\n",
    "A_star = np.exp(log_A[0]) * np.exp(tfp)\n",
    "\n",
    "# detrend\n",
    "A_star_trunc_hp = hpfilter(np.log(A_star_trunc) * 100, lamb = 1600)[0]\n",
    "A_star_hp = hpfilter(np.log(A_star) * 100, lamb = 1600)[0]"
   ]
  },
  {
   "cell_type": "code",
   "execution_count": 24,
   "id": "a352a8cf",
   "metadata": {},
   "outputs": [
    {
     "name": "stdout",
     "output_type": "stream",
     "text": [
      "A_star_trunc: 0.9259 \n",
      "A_star: 0.9186\n"
     ]
    }
   ],
   "source": [
    "# standard deviation\n",
    "print('A_star_trunc:', round(np.std(A_star_trunc_hp), 4), \n",
    "      '\\nA_star:', round(np.std(A_star_hp), 4))"
   ]
  },
  {
   "cell_type": "code",
   "execution_count": 25,
   "id": "f3e9396f",
   "metadata": {},
   "outputs": [
    {
     "name": "stdout",
     "output_type": "stream",
     "text": [
      "A_star_trunc: 0.6472 \n",
      "A_star: 0.5914\n"
     ]
    }
   ],
   "source": [
    "# relative standard deviation with respect to output\n",
    "print('A_star_trunc:', round(np.std(A_star_trunc_hp) / stdev_trunc['Y_trunc'], 4), \n",
    "      '\\nA_star:', round(np.std(A_star_hp) / stdev['Y'], 4))"
   ]
  },
  {
   "cell_type": "code",
   "execution_count": 26,
   "id": "55ebf475",
   "metadata": {},
   "outputs": [
    {
     "name": "stdout",
     "output_type": "stream",
     "text": [
      "A_star_trunc: 0.6531 \n",
      "A_star: 0.6475\n"
     ]
    }
   ],
   "source": [
    "# first-order autocorrelation\n",
    "print('A_star_trunc:', round(np.corrcoef(A_star_trunc_hp[1:], A_star_trunc_hp[0:-1])[0, 1], 4), \n",
    "      '\\nA_star:', round(np.corrcoef(A_star_hp[1:], A_star_hp[0:-1])[0, 1], 4))"
   ]
  },
  {
   "cell_type": "code",
   "execution_count": 27,
   "id": "b019caee",
   "metadata": {},
   "outputs": [
    {
     "name": "stdout",
     "output_type": "stream",
     "text": [
      "A_star_trunc: -0.0195 \n",
      "A_star: -0.0633\n"
     ]
    }
   ],
   "source": [
    "# contemporaneous correlation with output\n",
    "print('A_star_trunc:', round(np.corrcoef(A_star_trunc_hp, output_trunc['Y_trunc'][5:])[0, 1], 4), \n",
    "      '\\nA_star:', round(np.corrcoef(A_star_hp, output['Y'][5:])[0, 1], 4))"
   ]
  },
  {
   "cell_type": "markdown",
   "id": "596c841b",
   "metadata": {},
   "source": [
    "# Question 2"
   ]
  },
  {
   "cell_type": "markdown",
   "id": "81455f70",
   "metadata": {},
   "source": [
    "### Part 1"
   ]
  },
  {
   "cell_type": "code",
   "execution_count": null,
   "id": "ba4b8cd7",
   "metadata": {},
   "outputs": [],
   "source": [
    "@simple\n",
    "def firm(K, n, a, alpha, delta):    \n",
    "    r = alpha * a * (K(-1) / n) ** (alpha-1) - delta\n",
    "    w = (1 - alpha) * a * (K(-1) / n) ** alpha\n",
    "    Y = a * K(-1) ** alpha * n ** (1 - alpha)\n",
    "    return r, w, Y\n",
    "\n",
    "@simple\n",
    "def household(K, n, w, eis, frisch, b, delta):    \n",
    "    C = (w / b / n ** (1 / frisch)) ** eis\n",
    "    I = K - (1 - delta) * K(-1)\n",
    "    return C, I\n",
    "\n",
    "@simple\n",
    "def mkt_clearing(r, C, Y, I, K, n, w, eis, beta):\n",
    "    goods_mkt = Y - C - I\n",
    "    euler = C ** (-1 / eis) - beta * (1 + r(+1)) * C(+1) ** (-1 / eis)\n",
    "    walras = C + K - (1 + r) * K(-1) - w * n\n",
    "    \n",
    "    capital_output_r = K/Y - 14.\n",
    "    invest_output_r = I/Y - 0.25\n",
    "    \n",
    "    labor = n - 0.3333333\n",
    "    \n",
    "    return goods_mkt, euler, walras, capital_output_r, invest_output_r, labor"
   ]
  },
  {
   "cell_type": "code",
   "execution_count": null,
   "id": "fd9c43d0",
   "metadata": {},
   "outputs": [],
   "source": [
    "sigma = 0.01\n",
    "eps = np.random.normal(0, sigma, 200)"
   ]
  },
  {
   "cell_type": "code",
   "execution_count": null,
   "id": "f5a69eff",
   "metadata": {},
   "outputs": [],
   "source": [
    "rbc = create_model([household, firm, mkt_clearing], name=\"rbc_problem_input_a\")"
   ]
  },
  {
   "cell_type": "code",
   "execution_count": null,
   "id": "b7e4dc0a",
   "metadata": {},
   "outputs": [],
   "source": [
    "from sequence_jacobian import drawdag\n",
    "\n",
    "unknowns = [\"K\", \"n\"]\n",
    "targets = [\"euler\", \"goods_mkt\"]\n",
    "inputs = [\"a\"]\n",
    "\n",
    "drawdag(rbc, inputs, unknowns, targets)"
   ]
  },
  {
   "cell_type": "code",
   "execution_count": null,
   "id": "8e2f30e1",
   "metadata": {},
   "outputs": [],
   "source": [
    "# calibration: known parameter values\n",
    "# unknowns: K, n, unknown paramenter values (b, beta, delta)\n",
    "# targets: Euler equation, market-clearing condition, K/Y = 14, I/Y = 0.25, n = 1/3\n",
    "\n",
    "calibration = {\"eis\": 0.5, \"frisch\": 1., \"alpha\": 0.33, \"rho\": 0.9, \"a\": 1.}\n",
    "unknowns_ss = {\"b\": 0.9, \"beta\": 0.9,  \"delta\": 0.2, \"K\": 3., \"n\": 0.33}\n",
    "targets_ss = {\"goods_mkt\": 0., \"euler\": 0., \"capital_output_r\": 0., \"invest_output_r\": 0., \"labor\": 0.}\n",
    "\n",
    "ss = rbc.solve_steady_state(calibration, unknowns_ss, targets_ss, solver = \"hybr\")"
   ]
  },
  {
   "cell_type": "code",
   "execution_count": null,
   "id": "a87e0bcd",
   "metadata": {},
   "outputs": [],
   "source": [
    "for key, value in ss.items():\n",
    "    print(key, value)"
   ]
  },
  {
   "cell_type": "code",
   "execution_count": null,
   "id": "d0671a7e",
   "metadata": {},
   "outputs": [],
   "source": [
    "print(f\"Goods market clearing: {ss['goods_mkt']},\\nEuler equation: {ss['euler']},\\nWalras: {ss['walras']}\")"
   ]
  },
  {
   "cell_type": "code",
   "execution_count": null,
   "id": "4ba33755",
   "metadata": {},
   "outputs": [],
   "source": [
    "unknowns = ['K', 'n']\n",
    "targets = ['euler', 'goods_mkt']\n",
    "inputs = ['a']\n",
    "\n",
    "G = rbc.solve_jacobian(ss, unknowns, targets, inputs, T=200)"
   ]
  },
  {
   "cell_type": "code",
   "execution_count": null,
   "id": "b2f88d0a",
   "metadata": {},
   "outputs": [],
   "source": [
    "T, impact, rho = 200, 0.01, 0.9\n",
    "da = np.zeros((T, 2))\n",
    "da[0, 0] = impact * ss['a']\n",
    "da[:, 1] = impact * ss['a'] * rho**np.arange(T)"
   ]
  },
  {
   "cell_type": "code",
   "execution_count": null,
   "id": "d0b7aeba",
   "metadata": {},
   "outputs": [],
   "source": [
    "var_list = [\"Y\", \"n\", \"C\", \"I\", \"K\", \"w\", \"r\"]"
   ]
  },
  {
   "cell_type": "code",
   "execution_count": null,
   "id": "daa285c9",
   "metadata": {
    "scrolled": false
   },
   "outputs": [],
   "source": [
    "for var in var_list:\n",
    "    dVal = 100 * G[var]['a'] @ da / ss[var]\n",
    "    plt.plot(dVal[:50, 1], linewidth=2.5)\n",
    "    plt.title(f'{var} response to TFP shocks')\n",
    "    plt.ylabel('% deviation from ss')\n",
    "    plt.xlabel('quarters')\n",
    "    plt.show()"
   ]
  },
  {
   "cell_type": "markdown",
   "id": "43eafac3",
   "metadata": {},
   "source": [
    "### Part 2"
   ]
  },
  {
   "cell_type": "markdown",
   "id": "c9347307",
   "metadata": {},
   "source": [
    "First, let us construct a class to hold information about each simulation"
   ]
  },
  {
   "cell_type": "code",
   "execution_count": null,
   "id": "a7ea27d3",
   "metadata": {},
   "outputs": [],
   "source": [
    "import math\n",
    "PERIODS = 200\n",
    "BURN = 50\n",
    "IMPACT = impact\n",
    "RHO = rho\n",
    "\n",
    "class Economy():\n",
    "    def __init__(self, g_matrix, steady_state):\n",
    "        # Get impulse response matrix and steady state from toolbox\n",
    "        self.g_matrix = g_matrix \n",
    "        self.steady_state = steady_state\n",
    "\n",
    "        # Create a list of iid shocks\n",
    "        self.epsilon_list = np.random.normal(0, IMPACT, PERIODS + BURN)\n",
    "        self.burned_epsilons = self.epsilon_list[BURN:]\n",
    "\n",
    "        # Generate list of as given epsilons\n",
    "        self.a_list = self.convert_epsilons_to_as(self.epsilon_list)\n",
    "        self.burned_as = self.a_list[BURN:]\n",
    "\n",
    "        # Generate a list of das given as\n",
    "        # Note: da_list[0] = None because there is no lag for period 0\n",
    "        self.da_list = [None] + [self.a_list[i] - self.a_list[i-1] for i in range(1, PERIODS + BURN)]\n",
    "        self.burned_das = self.da_list[BURN:]\n",
    "\n",
    "        # Generate sequences for capital, consumption, output, and labor\n",
    "        self.K_list = self.simulate_sequence('K')\n",
    "        self.burned_Ks = self.K_list[BURN:]\n",
    "\n",
    "        self.C_list = self.simulate_sequence('C')\n",
    "        self.burned_Cs = self.C_list[BURN:]\n",
    "\n",
    "        self.Y_list = self.simulate_sequence('Y')\n",
    "        self.burned_Ys = self.Y_list[BURN:]\n",
    "\n",
    "        self.n_list = self.simulate_sequence('n')\n",
    "        self.burned_ns = self.n_list[BURN:]\n",
    "\n",
    "        self.w_list = self.simulate_sequence('w')\n",
    "        self.burned_ws = self.w_list[BURN:]\n",
    "\n",
    "        self.r_list = self.simulate_sequence('r')\n",
    "        self.burned_rs = self.r_list[BURN:]\n",
    "\n",
    "        self.I_list = self.simulate_sequence('I')\n",
    "        self.burned_Is = self.I_list[BURN:]\n",
    "\n",
    "    def convert_epsilons_to_as(self, epsilon_list):\n",
    "        \"\"\"\n",
    "        Given a sequence of iid normal shocks, generates an AR(1) process\n",
    "        representing log of a. \n",
    "        \"\"\"\n",
    "        lna_list = np.zeros(PERIODS + BURN)\n",
    "        lna_list[0] = self.steady_state['a']\n",
    "        for i in range(1, PERIODS + BURN):\n",
    "            lna_list[i] = lna_list[i-1] * RHO + epsilon_list[i]\n",
    "        return [math.exp(lna) for lna in lna_list]\n",
    "    \n",
    "    def simulate_sequence(self, variable):\n",
    "        \"\"\"\n",
    "        Given a variable, generates a sequence of values for that variable\n",
    "        \"\"\"\n",
    "        sequence = np.zeros(PERIODS + BURN)\n",
    "        sequence[0] = self.steady_state[variable]\n",
    "        for i in range(1, PERIODS + BURN):\n",
    "            sequence[i] = sequence[i-1] + self.g_matrix[variable]['a'][i-1] * self.da_list[i]\n",
    "        return sequence\n",
    "    \n",
    "    # Now we do getters for the burned sequences\n",
    "    def get_burned_Ks(self):\n",
    "        return self.burned_Ks\n",
    "    \n",
    "    def get_burned_Cs(self):\n",
    "        return self.burned_Cs\n",
    "    \n",
    "    def get_burned_Ys(self):\n",
    "        return self.burned_Ys\n",
    "    \n",
    "    def get_burned_ns(self):\n",
    "        return self.burned_ns\n",
    "    \n",
    "    def get_burned_as(self):\n",
    "        return self.burned_as\n",
    "    \n",
    "    def get_burned_das(self):\n",
    "        return self.burned_das\n",
    "    \n",
    "    def get_burned_epsilons(self):\n",
    "        return self.burned_epsilons\n",
    "    \n",
    "    def get_burned_ws(self):\n",
    "        return self.burned_ws\n",
    "    \n",
    "    def get_burned_rs(self):\n",
    "        return self.burned_rs\n",
    "    \n",
    "    def get_burned_Is(self):\n",
    "        return self.burned_Is\n",
    "    \n",
    "Economy(G, ss)"
   ]
  },
  {
   "cell_type": "markdown",
   "id": "6f5b3747",
   "metadata": {},
   "source": [
    "Now that we have our simulation class defined, we can generate 100 of them as desired"
   ]
  },
  {
   "cell_type": "code",
   "execution_count": null,
   "id": "39d5a3db",
   "metadata": {},
   "outputs": [],
   "source": [
    "simulations = []\n",
    "for i in range(100):\n",
    "    e = Economy(G, ss)\n",
    "    simulations.append(e)"
   ]
  }
 ],
 "metadata": {
  "kernelspec": {
   "display_name": "Python 3 (ipykernel)",
   "language": "python",
   "name": "python3"
  },
  "language_info": {
   "codemirror_mode": {
    "name": "ipython",
    "version": 3
   },
   "file_extension": ".py",
   "mimetype": "text/x-python",
   "name": "python",
   "nbconvert_exporter": "python",
   "pygments_lexer": "ipython3",
   "version": "3.10.6"
  }
 },
 "nbformat": 4,
 "nbformat_minor": 5
}
