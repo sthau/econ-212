{
 "cells": [
  {
   "cell_type": "markdown",
   "metadata": {},
   "source": [
    "# Econ 212: Homework 2"
   ]
  },
  {
   "cell_type": "code",
   "execution_count": 1,
   "metadata": {},
   "outputs": [],
   "source": [
    "from fredapi import Fred\n",
    "from scipy.optimize import fsolve\n",
    "from sequence_jacobian import simple, create_model, solved\n",
    "from sequence_jacobian.utilities.drawdag import drawdag\n",
    "from sklearn.linear_model import LinearRegression\n",
    "from statsmodels.tsa.filters.hp_filter import hpfilter\n",
    "\n",
    "import math\n",
    "import numpy as np\n",
    "import matplotlib.pyplot as plt\n",
    "import pandas as pd\n",
    "np.random.seed(12345)"
   ]
  },
  {
   "cell_type": "code",
   "execution_count": 2,
   "metadata": {},
   "outputs": [],
   "source": [
    "fred = Fred(api_key = 'f6fa4f544be19c2ea791e9a3240470bf')"
   ]
  },
  {
   "cell_type": "markdown",
   "metadata": {},
   "source": [
    "## Question 1: Government Spending Shocks\n"
   ]
  },
  {
   "cell_type": "markdown",
   "metadata": {},
   "source": [
    "\n",
    "### Part 3: Model calibration and simulation"
   ]
  },
  {
   "cell_type": "code",
   "execution_count": 3,
   "metadata": {},
   "outputs": [
    {
     "name": "stdout",
     "output_type": "stream",
     "text": [
      "G / Y:  0.258953545842333\n"
     ]
    }
   ],
   "source": [
    "Y_data = fred.get_series('GDPC1')\n",
    "G_data = fred.get_series('GCEC1')\n",
    "\n",
    "G_filter = hpfilter(np.log(G_data) * 100, lamb = 1600)[0]\n",
    "\n",
    "print(f\"G / Y: \", np.mean(G_data / Y_data))"
   ]
  },
  {
   "cell_type": "code",
   "execution_count": 4,
   "metadata": {},
   "outputs": [
    {
     "name": "stdout",
     "output_type": "stream",
     "text": [
      "rho_g: [0.8965829]\n"
     ]
    }
   ],
   "source": [
    "gt_1 = np.array(G_filter[:-1]).reshape((-1, 1))\n",
    "gt = np.array(G_filter[1:])\n",
    "ar1 = LinearRegression().fit(gt_1, gt)\n",
    "\n",
    "print(f\"rho_g: {ar1.coef_}\")"
   ]
  },
  {
   "cell_type": "code",
   "execution_count": 8,
   "metadata": {},
   "outputs": [],
   "source": [
    "@simple\n",
    "def firm(K, L, Z, alpha, delta):\n",
    "    r = alpha * Z * (K(-1) / L) ** (alpha-1) - delta\n",
    "    w = (1 - alpha) * Z * (K(-1) / L) ** alpha\n",
    "    Y = Z * K(-1) ** alpha * L ** (1 - alpha)\n",
    "    return r, w, Y\n",
    "\n",
    "@simple\n",
    "def household(K, L, w, eis, frisch, b, delta):\n",
    "    C = (w / b / L ** (1 / frisch)) ** eis\n",
    "    I = K - (1 - delta) * K(-1)\n",
    "    return C, I\n",
    "\n",
    "@simple\n",
    "def mkt_clearing(r, C, Y, I, K, L, w, eis, beta, G):\n",
    "    goods_mkt = Y - C - I - G\n",
    "    euler = C ** (-1 / eis) - beta * (1 + r(+1)) * C(+1) ** (-1 / eis)\n",
    "    walras = C + K - (1 + r) * K(-1) - w * L\n",
    "    return goods_mkt, euler, walras\n",
    "\n",
    "@simple\n",
    "def calibration_block(K, Y, L, I):\n",
    "    ky_ratio = K/Y - 14\n",
    "    iy_ratio = I/Y - 0.25\n",
    "    l_fixed = L - 1/3\n",
    "    return ky_ratio,  iy_ratio, l_fixed"
   ]
  },
  {
   "cell_type": "code",
   "execution_count": 9,
   "metadata": {},
   "outputs": [],
   "source": [
    "alpha = 0.33\n",
    "beta = 0.99\n",
    "eta = 1.\n",
    "delta = 1./56.\n",
    "b = 6.5746\n",
    "rho = 0.979\n",
    "rho_g = 0.9\n",
    "\n",
    "sigma = 0.01\n",
    "sigma_g = 0.01 # from variance of AR(1) residuals\n",
    "\n",
    "Frisch = 1./eta\n",
    "EIS = 0.5\n",
    "\n",
    "T = 250"
   ]
  },
  {
   "cell_type": "code",
   "execution_count": 13,
   "metadata": {},
   "outputs": [],
   "source": [
    "rbc_1 = create_model([household, firm, mkt_clearing, calibration_block], name = \"RBC_1\")\n",
    "\n",
    "calibration = {\"Z\": 1., \"eis\": EIS, \"frisch\": Frisch, \"alpha\": alpha, \"G\": 0.26}\n",
    "unknowns_ss = {\"b\": b, \"K\": 20., \"L\" : 0.33, \"delta\" : delta, \"beta\" : beta}\n",
    "targets_ss = {\"goods_mkt\": 0., \"euler\": 0. , \"ky_ratio\" : 0,  \"iy_ratio\" : 0,  \"l_fixed\" : 0}\n",
    "\n",
    "ss_1 = rbc_1.solve_steady_state(calibration, unknowns_ss, targets_ss, solver = \"hybr\")\n",
    "\n",
    "inputs_1 = {\"Z\", \"G\"}\n",
    "unknowns_1 = {\"K\", \"L\"}\n",
    "targets_1 = {\"goods_mkt\", \"euler\"}\n",
    "\n",
    "G_1 = rbc_1.solve_jacobian(ss_1, unknowns_1, targets_1, inputs_1, T = T)"
   ]
  },
  {
   "cell_type": "code",
   "execution_count": null,
   "metadata": {},
   "outputs": [],
   "source": [
    "PERIODS = 200\n",
    "BURN = 50\n",
    "IMPACT_Z = 0.01\n",
    "IMPACT_G = 0.01\n",
    "RHO_Z = 0.9\n",
    "\n",
    "# COMPUTE THIS FROM FRED\n",
    "MU_G = 0.25\n",
    "\n",
    "class Economy():\n",
    "    def __init__(self, g_matrix, steady_state, rho_g):\n",
    "        self.rho_g = rho_g\n",
    "        \n",
    "        # Get impulse response matrix and steady state from toolbox\n",
    "        self.g_matrix = g_matrix \n",
    "        self.steady_state = steady_state\n",
    "\n",
    "        # Create a list of iid shocks for technology\n",
    "        self.epsilon_z_list = np.random.normal(0, IMPACT_Z, PERIODS + BURN)\n",
    "        self.burned_epsilons_z = self.epsilon_z_list[BURN:]\n",
    "        \n",
    "        # Create a list of iid shocks for government spending\n",
    "        self.epsilon_g_list = np.random.normal(0, IMPACT_G, PERIODS + BURN)\n",
    "        self.burned_epsilons_g = self.epsilon_g_list[BURN:] \n",
    "\n",
    "        # Generate list of as given epsilons\n",
    "        self.a_list = self.convert_epsilons_to_as(self.epsilon_z_list, RHO_Z, steady_state['a'], mu=0)\n",
    "        self.burned_as = self.a_list[BURN:]\n",
    "        \n",
    "        # Generate list of as given epsilons\n",
    "        self.g_list = self.convert_epsilons_to_as(self.epsilon_g_list, rho_g, steady_state['g'], mu=MU_G)\n",
    "        self.burned_gs = self.g_list[BURN:]\n",
    "\n",
    "        # Generate a list of das given as deviations from steady state a\n",
    "        self.da_list = [a - self.steady_state['a'] for a in self.a_list]\n",
    "        self.burned_das = self.da_list[BURN:]\n",
    "        \n",
    "        # Generate a list of dgs given as deviations from steady state g\n",
    "        self.dg_list = [g - self.steady_state['g'] for g in self.g_list]\n",
    "        self.burned_dgs = self.dg_list[BURN:]\n",
    "\n",
    "        # Generate sequences for capital, consumption, output, and labor\n",
    "        self.sequences = {}\n",
    "        for var in VAR_LIST:\n",
    "            self.sequences[var] = self.simulate_sequence(var)\n",
    "\n",
    "    def convert_epsilons_to_as(self, epsilon_list, rho, steady_state, mu):\n",
    "        \"\"\"\n",
    "        Given a sequence of iid normal shocks, generates an AR(1) process\n",
    "        representing log of a. \n",
    "        \"\"\"\n",
    "        lna_list = np.zeros(PERIODS + BURN)\n",
    "        lna_list[0] = steady_state\n",
    "        for i in range(1, PERIODS + BURN):\n",
    "            lna_list[i] = mu + lna_list[i-1] * rho + epsilon_list[i]\n",
    "        return [math.exp(lna) for lna in lna_list]\n",
    "        \n",
    "    def simulate_sequence(self, variable):\n",
    "        \"\"\"\n",
    "        Given a variable, generates a sequence of values for that variable\n",
    "        \"\"\"\n",
    "        \n",
    "        sequence = []\n",
    "        \n",
    "        for t in range(PERIODS):\n",
    "            past_shocks_a = self.burned_das[:t]\n",
    "            past_response_a = np.flip(self.g_matrix[variable]['a'][1:t+1, 0]) @ past_shocks_a\n",
    "            \n",
    "            past_shocks_g = self.burned_dgs[:t]\n",
    "            past_response_g = np.flip(self.g_matrix[variable]['g'][1:t+1, 0]) @ past_shocks_g\n",
    "            \n",
    "            logged_shock_a = np.log(self.burned_das[t] + self.steady_state['a']) - np.log(self.steady_state['a'])\n",
    "            future_shocks_a = np.exp(np.ones(PERIODS + BURN) * logged_shock_a * RHO_Z ** np.arange(PERIODS + BURN))\n",
    "            future_response_a = self.g_matrix[variable]['a'][0, :] @ future_shocks_a\n",
    "            \n",
    "            logged_shock_g = np.log(self.burned_dgs[t] + self.steady_state['g']) - np.log(self.steady_state['g'])\n",
    "            future_shocks_g = np.exp(np.ones(PERIODS + BURN) * logged_shock_g * self.rho_g ** np.arange(PERIODS + BURN))\n",
    "            future_response_g = self.g_matrix[variable]['g'][0, :] @ future_shocks_g\n",
    "            \n",
    "            sequence.append(self.steady_state[variable] + past_response_a + future_response_a + past_response_g + future_response_g)\n",
    "\n",
    "        return sequence\n",
    "    \n",
    "    # Now we do getters for the burned sequences\n",
    "    def get_sequence(self, var):\n",
    "        return self.sequences[var]\n",
    "    \n",
    "Economy(G, ss)"
   ]
  },
  {
   "cell_type": "markdown",
   "metadata": {},
   "source": [
    "## Question 2: Productivity News Shocks"
   ]
  },
  {
   "cell_type": "markdown",
   "metadata": {},
   "source": [
    "### Part 1b: Impulse Response Functions, Baseline"
   ]
  },
  {
   "cell_type": "code",
   "execution_count": null,
   "metadata": {},
   "outputs": [],
   "source": [
    "@simple\n",
    "def firm(K, L, Z, alpha, delta):\n",
    "    r = alpha * Z * (K(-1) / L) ** (alpha-1) - delta\n",
    "    w = (1 - alpha) * Z * (K(-1) / L) ** alpha\n",
    "    Y = Z * K(-1) ** alpha * L ** (1 - alpha)\n",
    "    return r, w, Y\n",
    "\n",
    "@simple\n",
    "def household(K, L, w, eis, frisch, b, delta):\n",
    "    C = (w / b / L ** (1 / frisch)) ** eis\n",
    "    I = K - (1 - delta) * K(-1)\n",
    "    return C, I\n",
    "\n",
    "@simple\n",
    "def mkt_clearing(r, C, Y, I, K, L, w, eis, beta):\n",
    "    goods_mkt = Y - C - I\n",
    "    euler = C ** (-1 / eis) - beta * (1 + r(+1)) * C(+1) ** (-1 / eis)\n",
    "    walras = C + K - (1 + r) * K(-1) - w * L\n",
    "    return goods_mkt, euler, walras\n",
    "\n",
    "@simple\n",
    "def Z_process(Z, epsilon, epsilon_news, rho):\n",
    "    epsilon_end = (Z).apply(np.log) - rho * (Z(-1)).apply(np.log) - epsilon_news(-4)\n",
    "    epsilon_target = epsilon_end - epsilon\n",
    "    return epsilon_target "
   ]
  },
  {
   "cell_type": "code",
   "execution_count": null,
   "metadata": {},
   "outputs": [],
   "source": [
    "alpha = 0.33\n",
    "beta = 0.99\n",
    "eta = 1.\n",
    "delta = 0.02\n",
    "b = 6.57\n",
    "sigma = 0.01\n",
    "rho = 0.9\n",
    "\n",
    "Frisch = 1/eta\n",
    "EIS = 1.\n",
    "\n",
    "T = 250"
   ]
  },
  {
   "cell_type": "code",
   "execution_count": null,
   "metadata": {},
   "outputs": [],
   "source": [
    "rbc_1b = create_model([household, firm, mkt_clearing, Z_process], name=\"RBC_2_1b\")\n",
    "\n",
    "calibration = {\"Z\": 1., \"eis\": EIS, \"frisch\": Frisch, \"alpha\": 0.33,\"epsilon\": 0., \"epsilon_news\": 0., \"rho\": rho, \"delta\" : 0.02, \"b\": b, \"beta\" : 0.99}\n",
    "unknowns_ss = {\"K\": 20., \"L\" : 0.33}\n",
    "targets_ss = {\"goods_mkt\": 0., \"euler\": 0.}\n",
    "\n",
    "ss_1b = rbc_1b.solve_steady_state(calibration, unknowns_ss, targets_ss, solver=\"hybr\")\n",
    "\n",
    "inputs_1b = {\"epsilon\", \"epsilon_news\"}\n",
    "unknowns_1b = {\"K\",\"L\",\"Z\"}\n",
    "targets_1b = {\"goods_mkt\",\"euler\",\"epsilon_target\"}\n",
    "\n",
    "G_1b = rbc_1b.solve_jacobian(ss_1b, unknowns_1b, targets_1b, inputs_1b, T=T)"
   ]
  },
  {
   "cell_type": "code",
   "execution_count": null,
   "metadata": {},
   "outputs": [],
   "source": [
    "VAR_LIST = [\"Y\", \"L\", \"C\", \"I\"]"
   ]
  },
  {
   "cell_type": "code",
   "execution_count": null,
   "metadata": {},
   "outputs": [],
   "source": [
    "deps_news = np.zeros(T)\n",
    "deps_news[0] = sigma"
   ]
  },
  {
   "cell_type": "code",
   "execution_count": null,
   "metadata": {},
   "outputs": [],
   "source": [
    "plt.figure(figsize=(15, 12))\n",
    "plt.subplots_adjust(hspace=0.2)\n",
    "\n",
    "for i in range(len(VAR_LIST)):\n",
    "    var = VAR_LIST[i]\n",
    "    dVal = 100 * G_1b[var]['epsilon_news'] @ deps_news / ss_1b[var]\n",
    "    \n",
    "    ax = plt.subplot(2, 2, i + 1)\n",
    "\n",
    "    ax.plot(dVal[:30], linewidth=2.5)\n",
    "    ax.axhline(y = 0, linestyle = \"--\", color = \"r\")\n",
    "    ax.set_title(f'{var} response to news shocks')\n",
    "    ax.set_ylabel('% deviation from ss')\n",
    "    ax.set_xlabel('quarters')\n",
    "\n",
    "plt.show()"
   ]
  },
  {
   "cell_type": "markdown",
   "metadata": {},
   "source": [
    "### Part 2b: Impulse Response Functions, Habit Formation"
   ]
  },
  {
   "cell_type": "code",
   "execution_count": null,
   "metadata": {},
   "outputs": [],
   "source": [
    "@simple\n",
    "def firm(K, L, Z, alpha, delta):\n",
    "    r = alpha * Z * (K(-1) / L) ** (alpha-1) - delta\n",
    "    w = (1 - alpha) * Z * (K(-1) / L) ** alpha\n",
    "    Y = Z * K(-1) ** alpha * L ** (1 - alpha)\n",
    "    return r, w, Y\n",
    "\n",
    "@simple\n",
    "def household_consumption(C, K, I, Z, L, kappa, beta, phi, delta, alpha, eta, b):\n",
    "    lambda_t = 1/(C - kappa*C(-1)) - beta*kappa/(C(+1) - kappa*C)\n",
    "    lambda_t_plus_1 = 1/(C(+1) - kappa*C) - beta*kappa/(C(+2) - kappa*C(+1))\n",
    "    \n",
    "    q_t = 1/(1-phi*(I/K(-1) - delta))\n",
    "    q_t_plus_1 = 1/(1-phi*(I(+1)/K - delta))\n",
    "    \n",
    "    r_t_plus_1 = alpha * Z(+1) * (K ** (alpha - 1)) * (L(+1) ** (1-alpha))\n",
    "    mu_t = 1 - delta + phi*(I(+1)/K - delta) * I(+1)/K - phi/2 * (I(+1)/K - delta)\n",
    "    \n",
    "    # intertemporal\n",
    "    C_eq = beta * lambda_t_plus_1/lambda_t * (r_t_plus_1 + q_t_plus_1 * mu_t) - q_t\n",
    "    \n",
    "    # intratemporal\n",
    "    w_t = (1 - alpha) * Z * (K(-1) ** (alpha)) * (L ** (-alpha))\n",
    "    n_eq = b * L**eta - lambda_t * w_t\n",
    "    \n",
    "    \n",
    "    I_eq = (1-delta)*K(-1) + I - (phi/2) * ((I/K(-1) - delta) ** 2) * K(-1) - K\n",
    "\n",
    "    \n",
    "    return C_eq, n_eq, I_eq\n",
    "    \n",
    "@simple\n",
    "def mkt_clearing(r, C, Y, I, K, L, w, eis, beta):\n",
    "    goods_mkt = Y - C - I\n",
    "    walras = C + K - (1 + r) * K(-1) - w * L\n",
    "    return goods_mkt, walras\n",
    "\n",
    "@simple\n",
    "def Z_process(Z, epsilon, epsilon_news, rho):\n",
    "    epsilon_end = (Z).apply(np.log) - rho * (Z(-1)).apply(np.log) - epsilon_news(-4)\n",
    "    epsilon_target = epsilon_end - epsilon\n",
    "    return  epsilon_target "
   ]
  },
  {
   "cell_type": "code",
   "execution_count": null,
   "metadata": {},
   "outputs": [],
   "source": [
    "kappa = 0.75\n",
    "phi = 1."
   ]
  },
  {
   "cell_type": "code",
   "execution_count": null,
   "metadata": {},
   "outputs": [],
   "source": [
    "rbc_2b = create_model([household_consumption, firm, mkt_clearing, Z_process], name=\"RBC_2_2b\")\n",
    "\n",
    "calibration = {\"Z\": 1., \"eis\": EIS, \"frisch\": Frisch, \"alpha\": 0.33, \"epsilon\": 0., \"epsilon_news\": 0., \"rho\": rho, \n",
    "               \"delta\" : 0.02, \"b\": b, \"beta\" : 0.99, \"phi\": phi, \"kappa\": kappa, \"eta\": eta}\n",
    "unknowns_ss = {\"K\": 10., \"L\" : 0.33, \"C\": 1., \"Y\": .5, \"I\":0.5}\n",
    "targets_ss = {\"goods_mkt\": 0., \"walras\": 0., \"C_eq\": 0., \"n_eq\": 0., \"I_eq\":0.}\n",
    "\n",
    "ss_2b = rbc_2b.solve_steady_state(calibration, unknowns_ss, targets_ss, solver=\"hybr\")\n",
    "\n",
    "inputs_2b = {\"epsilon\", \"epsilon_news\"}\n",
    "unknowns_2b = {\"K\",\"L\",\"Z\",\"C\", \"I\"}\n",
    "targets_2b = {\"goods_mkt\", \"epsilon_target\", \"C_eq\", \"n_eq\", \"I_eq\"}\n",
    "\n",
    "G_2b = rbc_2b.solve_jacobian(ss_2b, unknowns_2b, targets_2b, inputs_2b, T=T)"
   ]
  },
  {
   "cell_type": "code",
   "execution_count": null,
   "metadata": {},
   "outputs": [],
   "source": [
    "plt.figure(figsize=(15, 12))\n",
    "plt.subplots_adjust(hspace=0.2)\n",
    "\n",
    "for i in range(len(VAR_LIST)):\n",
    "    var = VAR_LIST[i]\n",
    "    dVal = 100 * G_2b[var]['epsilon_news'] @ deps_news / ss_2b[var]\n",
    "    \n",
    "    ax = plt.subplot(2, 2, i + 1)\n",
    "\n",
    "    ax.plot(dVal[:30], linewidth=2.5)\n",
    "    ax.axhline(y = 0, linestyle = \"--\", color = \"r\")\n",
    "    ax.set_title(f'{var} response to TFP shocks')\n",
    "    ax.set_ylabel('% deviation from ss')\n",
    "    ax.set_xlabel('quarters')\n",
    "\n",
    "plt.show()"
   ]
  },
  {
   "cell_type": "markdown",
   "metadata": {},
   "source": [
    "### Part 3b: Impulse Response Functions, Investment Growth Rate"
   ]
  },
  {
   "cell_type": "code",
   "execution_count": null,
   "metadata": {},
   "outputs": [],
   "source": [
    "@simple\n",
    "def firm(K, L, Z, alpha, delta):\n",
    "    r = alpha * Z * (K(-1) / L) ** (alpha-1) - delta\n",
    "    w = (1 - alpha) * Z * (K(-1) / L) ** alpha\n",
    "    Y = Z * K(-1) ** alpha * L ** (1 - alpha)\n",
    "    return r, w, Y\n",
    "\n",
    "@solved(unknowns={'I': (-5, 5)}, targets = ['I_eq'])\n",
    "def household_invest(K, I, phi, delta):\n",
    "    I_eq = (1-delta)*K(-1) + I - (phi/2) * ((I/I(-1) - 1) ** 2) * I - K\n",
    "    return I_eq\n",
    "\n",
    "@solved(unknowns={'mu': (-5, 5)}, targets = ['mu_eq'])\n",
    "def mu_solve(C, L, K, Z, alpha, beta, delta, kappa, mu):\n",
    "    lambda_t = 1/(C - kappa*C(-1)) - beta*kappa/(C(+1) - kappa*C)\n",
    "    r_t = alpha * Z * (K(-1) ** (alpha - 1)) * (L ** (1-alpha))\n",
    "    mu_eq = beta * (lambda_t * r_t + mu * (1 - delta)) - mu(-1)\n",
    "    return mu_eq\n",
    "\n",
    "@simple\n",
    "def household_consumption(C, K, I, Z, L, kappa, beta, phi, delta, alpha, eta, b, mu):\n",
    "    lambda_t = 1/(C - kappa*C(-1)) - beta*kappa/(C(+1) - kappa*C)\n",
    "    \n",
    "    # intertemporal\n",
    "    C_eq1 = beta * mu(+1) * phi * (I(+1) / I - 1) * (I(+1) / I)**2\n",
    "    C_eq2 = lambda_t - mu * (1 - (phi / 2) * (I / I(-1) - 1)**2 - phi * (I / I(-1) - 1) * (I / I(-1)))\n",
    "    C_eq = C_eq1 - C_eq2\n",
    "    \n",
    "    # intratemporal\n",
    "    w_t = (1 - alpha) * Z * (K(-1) ** (alpha)) * (L ** (-alpha))\n",
    "    n_eq = b * L**eta - lambda_t * w_t\n",
    "    \n",
    "    return C_eq, n_eq\n",
    "    \n",
    "@simple\n",
    "def mkt_clearing(r, C, Y, I, K, L, w, eis, beta):\n",
    "    goods_mkt = Y - C - I\n",
    "    walras = C + K - (1 + r) * K(-1) - w * L\n",
    "    return goods_mkt, walras\n",
    "\n",
    "@simple\n",
    "def Z_process(Z, epsilon, epsilon_news, rho):\n",
    "    epsilon_end = (Z).apply(np.log) - rho * (Z(-1)).apply(np.log) - epsilon_news(-4)\n",
    "    epsilon_target = epsilon_end - epsilon\n",
    "    return  epsilon_target "
   ]
  },
  {
   "cell_type": "code",
   "execution_count": null,
   "metadata": {},
   "outputs": [],
   "source": [
    "rbc_3b = create_model([household_invest, household_consumption, mu_solve, firm, mkt_clearing, Z_process], \n",
    "                      name=\"RBC_2_3b\")\n",
    "\n",
    "calibration = {\"Z\": 1., \"eis\": EIS, \"frisch\": Frisch, \"alpha\": 0.33, \"epsilon\": 0., \"epsilon_news\": 0., \"rho\": rho, \n",
    "               \"delta\" : 0.02, \"b\": b, \"beta\" : 0.99, \"phi\": phi, \"kappa\": kappa, \"eta\": eta}\n",
    "unknowns_ss = {\"K\": 10., \"L\" : 0.33, \"C\": 1., \"Y\": .5}\n",
    "targets_ss = {\"goods_mkt\": 0., \"walras\": 0., \"C_eq\": 0., \"n_eq\": 0.}\n",
    "\n",
    "ss_3b = rbc_3b.solve_steady_state(calibration, unknowns_ss, targets_ss, solver=\"hybr\")\n",
    "\n",
    "inputs_3b = {\"epsilon\", \"epsilon_news\"}\n",
    "unknowns_3b = {\"K\",\"L\",\"Z\",\"C\"}\n",
    "targets_3b = {\"goods_mkt\", \"epsilon_target\", \"C_eq\", \"n_eq\"}\n",
    "\n",
    "G_3b = rbc_3b.solve_jacobian(ss_3b, unknowns_3b, targets_3b, inputs_3b, T=T)"
   ]
  },
  {
   "cell_type": "code",
   "execution_count": null,
   "metadata": {},
   "outputs": [],
   "source": [
    "plt.figure(figsize=(15, 12))\n",
    "plt.subplots_adjust(hspace=0.2)\n",
    "\n",
    "for i in range(len(VAR_LIST)):\n",
    "    var = VAR_LIST[i]\n",
    "    dVal = 100 * G_3b[var]['epsilon_news'] @ deps_news / ss_3b[var]\n",
    "    \n",
    "    ax = plt.subplot(2, 2, i + 1)\n",
    "\n",
    "    ax.plot(dVal[:30], linewidth=2.5)\n",
    "    ax.axhline(y = 0, linestyle = \"--\", color = \"r\")\n",
    "    ax.set_title(f'{var} response to TFP shocks')\n",
    "    ax.set_ylabel('% deviation from ss')\n",
    "    ax.set_xlabel('quarters')\n",
    "\n",
    "plt.show()"
   ]
  }
 ],
 "metadata": {
  "kernelspec": {
   "display_name": "Python 3 (ipykernel)",
   "language": "python",
   "name": "python3"
  },
  "language_info": {
   "codemirror_mode": {
    "name": "ipython",
    "version": 3
   },
   "file_extension": ".py",
   "mimetype": "text/x-python",
   "name": "python",
   "nbconvert_exporter": "python",
   "pygments_lexer": "ipython3",
   "version": "3.10.6"
  }
 },
 "nbformat": 4,
 "nbformat_minor": 2
}
