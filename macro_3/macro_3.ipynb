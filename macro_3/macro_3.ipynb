{
 "cells": [
  {
   "cell_type": "markdown",
   "id": "b57824c8",
   "metadata": {},
   "source": [
    "# Econ 212: Problem Set 3"
   ]
  },
  {
   "cell_type": "code",
   "execution_count": 1,
   "id": "1fae3080",
   "metadata": {},
   "outputs": [],
   "source": [
    "from fredapi import Fred\n",
    "import numpy as np\n",
    "import statsmodels.api as sm\n",
    "from statsmodels.tsa.api import VAR\n",
    "import matplotlib.pyplot as plt\n",
    "import numpy.linalg as la\n",
    "from sklearn.linear_model import LinearRegression\n",
    "\n",
    "import matplotlib.pyplot as plt\n",
    "import pandas as pd"
   ]
  },
  {
   "cell_type": "code",
   "execution_count": null,
   "id": "5160892f",
   "metadata": {},
   "outputs": [],
   "source": [
    "fred = Fred(api_key = 'f6fa4f544be19c2ea791e9a3240470bf')"
   ]
  },
  {
   "cell_type": "markdown",
   "id": "92d3b00e",
   "metadata": {},
   "source": [
    "## Problem 1: Seignorage and inflation"
   ]
  },
  {
   "cell_type": "markdown",
   "id": "ebec28d4",
   "metadata": {},
   "source": [
    "### Part (b) - ADD GRAPHS WITH RECESSION BANDS"
   ]
  },
  {
   "cell_type": "code",
   "execution_count": null,
   "id": "f928c861",
   "metadata": {},
   "outputs": [],
   "source": [
    "def est_param(start_date, end_date, monthly_end_date):\n",
    "    \n",
    "    ## get and process data\n",
    "    #######################\n",
    "    \n",
    "    # money\n",
    "    M_monthly = fred.get_series('M2SL', observation_start = start_date, observation_end = monthly_end_date)\n",
    "    M = np.mean(np.reshape(M_monthly, (3, len(M_monthly) // 3), order = 'F'), axis = 0)\n",
    "\n",
    "    # prices\n",
    "    P = fred.get_series('PCECTPI', observation_start = start_date, observation_end = end_date)\n",
    "\n",
    "    # interest rates\n",
    "    i_monthly = fred.get_series('FEDFUNDS', observation_start = start_date, observation_end = monthly_end_date)\n",
    "    i = np.mean(np.reshape(i_monthly, (3, len(i_monthly) // 3), order = 'F'), axis = 0)\n",
    "\n",
    "    # consumption\n",
    "    C = fred.get_series('PCEC', observation_start = start_date, observation_end = end_date)\n",
    "    \n",
    "    # real money balances\n",
    "    m = M / P\n",
    "\n",
    "    # real consumption\n",
    "    c = C / P\n",
    "    \n",
    "    ## fit linear regression to estimate preferences parameters\n",
    "    ###########################################################\n",
    "    \n",
    "    x = np.array([np.log(c), np.log((1 / i) + 1)]).T\n",
    "    y = np.array(np.log(m))\n",
    "\n",
    "    model = LinearRegression().fit(x, y)\n",
    "\n",
    "    print('intercept:', round(model.intercept_, 4), \n",
    "          '\\ncoefficients:', [round(coef, 4) for coef in model.coef_])\n",
    "    \n",
    "    gamma = 1 / model.coef_[1]\n",
    "    phi = np.exp(gamma * model.intercept_)\n",
    "    sigma = gamma * model.coef_[0]\n",
    "\n",
    "    print('gamma:', round(gamma, 4), \n",
    "          '\\nphi:', round(phi, 4), \n",
    "          '\\nsigma:', round(sigma, 4))\n",
    "    \n",
    "    return M_monthly, M, P, i_monthly, i, C, m, c"
   ]
  },
  {
   "cell_type": "code",
   "execution_count": null,
   "id": "058f2cbf",
   "metadata": {},
   "outputs": [],
   "source": [
    "M_monthly, M, P, i_monthly, i, C, m, c = est_param('1959-01-01', '2022-10-01', '2022-12-01')"
   ]
  },
  {
   "cell_type": "code",
   "execution_count": null,
   "id": "f75c9b8d",
   "metadata": {},
   "outputs": [],
   "source": [
    "dates = pd.DataFrame(m).index\n",
    "\n",
    "plt.plot(dates, m)\n",
    "plt.title('$m_t$')\n",
    "plt.xlabel('year')\n",
    "plt.ylabel('billions of dollars')\n",
    "plt.show()"
   ]
  },
  {
   "cell_type": "code",
   "execution_count": null,
   "id": "b7390686",
   "metadata": {},
   "outputs": [],
   "source": [
    "plt.plot(dates, c)\n",
    "plt.title('$c_t$')\n",
    "plt.xlabel('year')\n",
    "plt.ylabel('billions of dollars')\n",
    "plt.show()"
   ]
  },
  {
   "cell_type": "code",
   "execution_count": null,
   "id": "b49f020c",
   "metadata": {},
   "outputs": [],
   "source": [
    "plt.plot(dates, i)\n",
    "plt.title('$i_t$')\n",
    "plt.xlabel('year')\n",
    "plt.ylabel('percent')\n",
    "plt.axhline(y = 0, color = 'red')\n",
    "plt.show()"
   ]
  },
  {
   "cell_type": "code",
   "execution_count": null,
   "id": "b0694cec",
   "metadata": {},
   "outputs": [],
   "source": [
    "plt.scatter(i, m)\n",
    "plt.xlabel(r'$i_t$ (percent)')\n",
    "plt.ylabel(r'$m_t$ (billions of dollars)')\n",
    "plt.show()"
   ]
  },
  {
   "cell_type": "code",
   "execution_count": null,
   "id": "064abd89",
   "metadata": {},
   "outputs": [],
   "source": [
    "plt.scatter(1 / i + 1, m)\n",
    "plt.xlabel('$\\\\frac{1}{i_t}+1$')\n",
    "plt.ylabel(r'$m_t$ (billions of dollars)')\n",
    "plt.show()"
   ]
  },
  {
   "cell_type": "code",
   "execution_count": null,
   "id": "4b8c9d1f",
   "metadata": {},
   "outputs": [],
   "source": [
    "plt.plot(dates, np.log(m))\n",
    "plt.title('$\\\\log(m_t)$')\n",
    "plt.xlabel('year')\n",
    "plt.show()"
   ]
  },
  {
   "cell_type": "code",
   "execution_count": null,
   "id": "2b758744",
   "metadata": {},
   "outputs": [],
   "source": [
    "plt.plot(dates, np.log(c))\n",
    "plt.title('$\\\\log(c_t)$')\n",
    "plt.xlabel('year')\n",
    "plt.show()"
   ]
  },
  {
   "cell_type": "code",
   "execution_count": null,
   "id": "3e7886bd",
   "metadata": {},
   "outputs": [],
   "source": [
    "plt.plot(dates, np.log(1 / i + 1))\n",
    "plt.title('$\\\\log\\\\left(\\\\frac{1}{i_t}+1\\\\right)$')\n",
    "plt.xlabel('year')\n",
    "plt.axhline(y = 0, color = 'red')\n",
    "plt.show()"
   ]
  },
  {
   "cell_type": "code",
   "execution_count": null,
   "id": "dc0e300c",
   "metadata": {},
   "outputs": [],
   "source": [
    "plt.scatter(np.log(1 / i + 1), np.log(m))\n",
    "plt.xlabel('$\\\\log\\\\left(\\\\frac{1}{i_t}+1\\\\right)$')\n",
    "plt.ylabel('$\\\\log(m_t)$')\n",
    "plt.show()"
   ]
  },
  {
   "cell_type": "code",
   "execution_count": null,
   "id": "f0e29159",
   "metadata": {},
   "outputs": [],
   "source": [
    "est_param('1960-01-01', '1969-10-01', '1969-12-01');"
   ]
  },
  {
   "cell_type": "code",
   "execution_count": null,
   "id": "132a9257",
   "metadata": {},
   "outputs": [],
   "source": [
    "est_param('1970-01-01', '1979-10-01', '1979-12-01');"
   ]
  },
  {
   "cell_type": "code",
   "execution_count": null,
   "id": "3af9fe77",
   "metadata": {},
   "outputs": [],
   "source": [
    "est_param('1980-01-01', '1989-10-01', '1989-12-01');"
   ]
  },
  {
   "cell_type": "code",
   "execution_count": null,
   "id": "30e4ada9",
   "metadata": {},
   "outputs": [],
   "source": [
    "est_param('1990-01-01', '1999-10-01', '1999-12-01');"
   ]
  },
  {
   "cell_type": "code",
   "execution_count": null,
   "id": "73779b41",
   "metadata": {},
   "outputs": [],
   "source": [
    "est_param('2000-01-01', '2009-10-01', '2009-12-01');"
   ]
  },
  {
   "cell_type": "code",
   "execution_count": null,
   "id": "a248a79b",
   "metadata": {},
   "outputs": [],
   "source": [
    "est_param('2010-01-01', '2019-10-01', '2019-12-01');"
   ]
  },
  {
   "cell_type": "markdown",
   "id": "30d7ffee",
   "metadata": {},
   "source": [
    "### Part (c)"
   ]
  },
  {
   "cell_type": "code",
   "execution_count": null,
   "id": "2e8a480d",
   "metadata": {},
   "outputs": [],
   "source": [
    "# convert M and P to annual frequency\n",
    "M_annual = np.mean(np.reshape(M, (4, len(M) // 4), order = 'F'), axis = 0)\n",
    "P_annual = np.mean(np.reshape(P, (4, len(P) // 4), order = 'F'), axis = 0)\n",
    "\n",
    "# calculate seignorage\n",
    "s = np.diff(M_annual) / P_annual[1:]\n",
    "\n",
    "# calculate change in real money balances\n",
    "m_annual = np.mean(np.reshape(m, (4, len(m) // 4), order = 'F'), axis = 0)\n",
    "s1 = np.diff(m_annual)\n",
    "\n",
    "# calculate 'inflation tax' term\n",
    "s2 = s - s1"
   ]
  },
  {
   "cell_type": "code",
   "execution_count": null,
   "id": "1c2bceaf",
   "metadata": {},
   "outputs": [],
   "source": [
    "# date range is now from 1960 to 2022\n",
    "plt.plot(range(1960, 2023), s)\n",
    "plt.title('$s_t$')\n",
    "plt.xlabel('year')\n",
    "plt.ylabel('billions of dollars')\n",
    "plt.axhline(y = 0, color = 'red')\n",
    "plt.show()"
   ]
  },
  {
   "cell_type": "code",
   "execution_count": null,
   "id": "530ec458",
   "metadata": {},
   "outputs": [],
   "source": [
    "plt.plot(range(1960, 2023), s1)\n",
    "plt.title('$m_t-m_{t-1}$')\n",
    "plt.xlabel('year')\n",
    "plt.ylabel('billions of dollars')\n",
    "plt.axhline(y = 0, color = 'red')\n",
    "plt.show()"
   ]
  },
  {
   "cell_type": "code",
   "execution_count": null,
   "id": "5870c671",
   "metadata": {},
   "outputs": [],
   "source": [
    "plt.plot(range(1960, 2023), s2)\n",
    "plt.title('$\\\\left(\\\\frac{\\\\pi_t}{1+\\\\pi_t}\\\\right)m_{t-1}$')\n",
    "plt.xlabel('year')\n",
    "plt.ylabel('billions of dollars')\n",
    "plt.axhline(y = 0, color = 'red')\n",
    "plt.show()"
   ]
  },
  {
   "cell_type": "code",
   "execution_count": null,
   "id": "1250ea41",
   "metadata": {},
   "outputs": [],
   "source": [
    "# see what percentage of seignorage has been the change in real money balances\n",
    "plt.plot(range(1960, 2023), s1 / s)\n",
    "plt.title('$\\\\frac{m_t-m_{t-1}}{s_t}$')\n",
    "plt.xlabel('year')\n",
    "plt.axhline(y = 0, color = 'red')\n",
    "plt.show()"
   ]
  },
  {
   "cell_type": "markdown",
   "id": "75868dd9",
   "metadata": {},
   "source": [
    "## Problem 2: SVAR impulse response to monetary shocks"
   ]
  },
  {
   "cell_type": "markdown",
   "id": "b2fc8f6c",
   "metadata": {},
   "source": [
    "### Part A"
   ]
  },
  {
   "cell_type": "code",
   "execution_count": null,
   "id": "2b297043",
   "metadata": {},
   "outputs": [],
   "source": [
    "real_GDP = fred.get_series('GDPC1', observation_start = '1959-01-01', observation_end = '2007-10-01')\n",
    "price_deflator = fred.get_series('GDPDEF', observation_start = '1959-01-01', observation_end = '2007-10-01')\n",
    "fed_funds_rate = fred.get_series('FEDFUNDS', observation_start = '1959-01-01', observation_end = '2007-12-01')"
   ]
  },
  {
   "cell_type": "code",
   "execution_count": null,
   "id": "96538677",
   "metadata": {},
   "outputs": [],
   "source": [
    "growth_rate = [400 * np.log(real_GDP[t] / real_GDP[t-1]) for t in range(1,len(real_GDP))]\n",
    "inflation_rate = [400 * np.log(price_deflator[t] / price_deflator[t-1]) for t in range(1,len(price_deflator))]\n",
    "fed_funds_rate = np.mean(np.reshape(fed_funds_rate, (3, len(fed_funds_rate) // 3), order = 'F'), axis = 0)[1:]"
   ]
  },
  {
   "cell_type": "markdown",
   "id": "5fbec5b6",
   "metadata": {},
   "source": [
    "### Part B"
   ]
  },
  {
   "cell_type": "code",
   "execution_count": null,
   "id": "ff61f4ab",
   "metadata": {},
   "outputs": [],
   "source": [
    "def plot_var_irf(X, periods, shock, var_list):\n",
    "    Xt_df = pd.DataFrame(X, columns = var_list)\n",
    "\n",
    "    # Create lags 1 - 4\n",
    "    lagged_Xt = pd.concat((Xt_df.shift(1), Xt_df.shift(2), Xt_df.shift(3), Xt_df.shift(4)), axis = 1)\n",
    "\n",
    "    # Rename columns\n",
    "    # For each lagged period\n",
    "    for i in range(4):\n",
    "        # For each variable\n",
    "        for j in range(len(var_list)):\n",
    "            lagged_Xt.columns.values[j + 3 * i] = var_list[j] + f'{i}'\n",
    "\n",
    "    # Drop the first four rows\n",
    "    lagged_Xt = lagged_Xt.iloc[4:]\n",
    "\n",
    "    # Run regression on lagged values\n",
    "    B_gamma_inv = np.linalg.inv(lagged_Xt.T @ lagged_Xt) @ lagged_Xt.T @ Xt_df[4:]\n",
    "    B_gamma_inv = np.matrix(B_gamma_inv)\n",
    "\n",
    "    # Get coefficients for each lag\n",
    "    B_gamma_inv_1 = B_gamma_inv[0:len(var_list), :]\n",
    "    B_gamma_inv_2 = B_gamma_inv[len(var_list):2 * len(var_list), :]\n",
    "    B_gamma_inv_3 = B_gamma_inv[2 * len(var_list):3 * len(var_list), :]\n",
    "    B_gamma_inv_4 = B_gamma_inv[3 * len(var_list):4 * len(var_list), :]\n",
    "\n",
    "    # Calculate residuals\n",
    "    residuals = np.matrix(Xt_df[4:]) - lagged_Xt @ B_gamma_inv\n",
    "\n",
    "    # Get L\n",
    "    L = np.linalg.cholesky(np.cov(residuals.T))\n",
    "\n",
    "    # Seed the IRF with initial periods\n",
    "    irf = np.zeros((periods, len(var_list)))\n",
    "    irf[0] = np.dot(L, shock)\n",
    "    irf[1] = B_gamma_inv_1.T @ irf[0]\n",
    "    irf[2] = B_gamma_inv_1.T @ irf[1] + B_gamma_inv_2.T @ irf[0]\n",
    "    irf[3] = B_gamma_inv_1.T @ irf[2] + B_gamma_inv_2.T @ irf[1] + B_gamma_inv_3.T @ irf[0]\n",
    "\n",
    "    # Iterate forward through time\n",
    "    for t in range(4, periods):\n",
    "        irf[t] = B_gamma_inv_1.T @ irf[t-1] + B_gamma_inv_2.T @ irf[t-2] + B_gamma_inv_3.T @ irf[t-3] + B_gamma_inv_4.T @ irf[t-4]\n",
    "\n",
    "    # Plot first column of irf representing output\n",
    "    for i in range(len(var_list)):\n",
    "        plt.plot(irf[:, i], label = var_list[i])\n",
    "        plt.title(\"Response of \" + var_list[i] + \" to a 1% Increase in the Federal Funds Rate\")\n",
    "        plt.xlabel(\"Quarters\")\n",
    "        plt.ylabel(\"Percent Deviation from Steady State\")\n",
    "\n",
    "        # Add horizontal line at zero\n",
    "        plt.axhline(y = 0, color = 'red', linestyle = '--')\n",
    "        plt.show()"
   ]
  },
  {
   "cell_type": "markdown",
   "id": "26c98b2e",
   "metadata": {},
   "source": [
    "### i"
   ]
  },
  {
   "cell_type": "code",
   "execution_count": null,
   "id": "e5a67361",
   "metadata": {},
   "outputs": [],
   "source": [
    "X = [(growth_rate[t], inflation_rate[t], fed_funds_rate[t]) for t in range(len(inflation_rate))]\n",
    "\n",
    "sd_ff = np.std(fed_funds_rate)\n",
    "shock = [0, 0, 1 / sd_ff]\n",
    "var_list = ['Growth Rate','Inflation Rate', 'Nominal Interest Rate']\n",
    "\n",
    "plot_var_irf(X, 15, shock, var_list)"
   ]
  },
  {
   "cell_type": "markdown",
   "id": "a0b60b81",
   "metadata": {},
   "source": [
    "### ii"
   ]
  },
  {
   "cell_type": "code",
   "execution_count": null,
   "id": "b7e27b70",
   "metadata": {},
   "outputs": [],
   "source": [
    "X_permuted = [(inflation_rate[t], growth_rate[t], fed_funds_rate[t]) for t in range(len(inflation_rate))]\n",
    "var_list_permuted = ['Inflation Rate','Growth Rate', 'Nominal Interest Rate']\n",
    "\n",
    "plot_var_irf(X_permuted, 15, shock, var_list_permuted)"
   ]
  },
  {
   "cell_type": "markdown",
   "id": "96d75efb",
   "metadata": {},
   "source": [
    "### iii"
   ]
  },
  {
   "cell_type": "code",
   "execution_count": null,
   "id": "c1ccdd87",
   "metadata": {},
   "outputs": [],
   "source": [
    "total_reserves = np.log(fred.get_series('TOTRESNS', observation_start = '1959-01-01', \n",
    "                                        observation_end = '2007-10-01')[::3])\n",
    "m2 = np.log(fred.get_series('M2SL', observation_start = '1959-01-01', \n",
    "                                        observation_end = '2007-10-01')[::3])"
   ]
  },
  {
   "cell_type": "code",
   "execution_count": null,
   "id": "6aa2b4dd",
   "metadata": {},
   "outputs": [],
   "source": [
    "X_additional = [(growth_rate[t], inflation_rate[t], total_reserves[t], m2[t] ,fed_funds_rate[t]) \n",
    "                for t in range(len(fed_funds_rate))]\n",
    "\n",
    "shock = [0,0,0,0,1/sd_ff]\n",
    "var_list = ['Growth Rate','Inflation Rate','Log total reserves', 'Log M2', 'Nominal Interest Rate']"
   ]
  },
  {
   "cell_type": "code",
   "execution_count": null,
   "id": "2178178d",
   "metadata": {
    "scrolled": false
   },
   "outputs": [],
   "source": [
    "plot_var_irf(X_additional, 15, shock, var_list)"
   ]
  },
  {
   "cell_type": "code",
   "execution_count": null,
   "id": "bf6b526b",
   "metadata": {},
   "outputs": [],
   "source": [
    "def bootstrap_irf(X, K, periods, shock, var_list):\n",
    "    # fit model\n",
    "    model = VAR(X).fit(1, trend = 'n')\n",
    "    \n",
    "    # get L matrix\n",
    "    b_gamma_inv = model.coefs\n",
    "    sigma = np.cov(np.matrix(model.resid).T)\n",
    "    L = la.cholesky(sigma).T\n",
    "\n",
    "    # compute IRF and scaled response function\n",
    "    irf = [(b_gamma_inv ** t) @ L for t in  range(periods)]\n",
    "    response = [irf[t] @ shock for t in range(periods)]\n",
    "    \n",
    "    # residuals\n",
    "    epsilons = model.resid\n",
    "    \n",
    "    # make some useful constants\n",
    "    covs = np.shape(X)[1]\n",
    "    n = np.shape(X)[0]\n",
    "    \n",
    "    # make 3 dimensional matrix to store irfs\n",
    "    response_array = np.zeros((n, covs, K))\n",
    "    \n",
    "    for k in range(K):\n",
    "        eps_boot = np.zeros((n, covs))\n",
    "\n",
    "        for i in range(covs):\n",
    "            eps_boot[:, i] = np.random.choice(epsilons[i, :], size = n, replace = True)\n",
    "\n",
    "        X_boot = X @ b_gamma_inv + eps_boot\n",
    "        response_array[:,:, k] = compute_irf(X_boot[0], periods, shock)[0]\n",
    "        \n",
    "    # plot\n",
    "    plt.figure(figsize=(15, 12))\n",
    "    plt.subplots_adjust(hspace=0.5)\n",
    "\n",
    "    for i in range(np.shape(X)[1]):\n",
    "        irf_series = [response[t][0][i] for t in range(periods)]\n",
    "        \n",
    "        # get the 5th and 95th percentile outcomes        \n",
    "        irf_upper_ci = [np.percentile(response_array[t][i], 97.5) for t in range(periods)]\n",
    "        irf_lower_ci = [np.percentile(response_array[t][i], 2.5) for t in range(periods)]\n",
    "    \n",
    "        var = var_list[i]\n",
    "\n",
    "        ax = plt.subplot(np.shape(X)[1], 1, i + 1)\n",
    "\n",
    "        ax.plot(irf_series, linewidth=2.5)\n",
    "        ax.plot(irf_upper_ci, linewidth = 2.5, color = \"b\")\n",
    "        ax.plot(irf_lower_ci, linewidth = 2.5, color = \"b\")\n",
    "        ax.set_title(f'{var} response to 100 bp monetary innovation')\n",
    "        ax.set_ylabel('deviation from steady state')\n",
    "        ax.set_xlabel('quarters')\n",
    "        ax.axhline(0, color = \"r\", linestyle = \"--\")\n",
    "    plt.show()"
   ]
  },
  {
   "cell_type": "code",
   "execution_count": null,
   "id": "ae831819",
   "metadata": {},
   "outputs": [],
   "source": [
    "bootstrap_irf(X, 10, 10, shock, var_list)"
   ]
  },
  {
   "cell_type": "code",
   "execution_count": null,
   "id": "b7643de2",
   "metadata": {},
   "outputs": [],
   "source": []
  }
 ],
 "metadata": {
  "kernelspec": {
   "display_name": "Python 3 (ipykernel)",
   "language": "python",
   "name": "python3"
  },
  "language_info": {
   "codemirror_mode": {
    "name": "ipython",
    "version": 3
   },
   "file_extension": ".py",
   "mimetype": "text/x-python",
   "name": "python",
   "nbconvert_exporter": "python",
   "pygments_lexer": "ipython3",
   "version": "3.10.6"
  }
 },
 "nbformat": 4,
 "nbformat_minor": 5
}
