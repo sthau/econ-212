{
 "cells": [
  {
   "cell_type": "markdown",
   "id": "b57824c8",
   "metadata": {},
   "source": [
    "# Econ 212: Problem Set 3"
   ]
  },
  {
   "cell_type": "code",
   "execution_count": null,
   "id": "1fae3080",
   "metadata": {},
   "outputs": [],
   "source": [
    "from fredapi import Fred"
   ]
  },
  {
   "cell_type": "code",
   "execution_count": null,
   "id": "5160892f",
   "metadata": {},
   "outputs": [],
   "source": [
    "fred = Fred(api_key = 'f6fa4f544be19c2ea791e9a3240470bf')"
   ]
  },
  {
   "cell_type": "markdown",
   "id": "92d3b00e",
   "metadata": {},
   "source": [
    "## Problem 1: Seignorage and inflation"
   ]
  },
  {
   "cell_type": "code",
   "execution_count": null,
   "id": "456cf2a2",
   "metadata": {},
   "outputs": [],
   "source": []
  },
  {
   "cell_type": "markdown",
   "id": "75868dd9",
   "metadata": {},
   "source": [
    "## Problem 2: SVAR impulse response to monetary shocks"
   ]
  },
  {
   "cell_type": "code",
   "execution_count": null,
   "id": "2b297043",
   "metadata": {},
   "outputs": [],
   "source": []
  }
 ],
 "metadata": {
  "kernelspec": {
   "display_name": "Python 3 (ipykernel)",
   "language": "python",
   "name": "python3"
  },
  "language_info": {
   "codemirror_mode": {
    "name": "ipython",
    "version": 3
   },
   "file_extension": ".py",
   "mimetype": "text/x-python",
   "name": "python",
   "nbconvert_exporter": "python",
   "pygments_lexer": "ipython3",
   "version": "3.10.6"
  }
 },
 "nbformat": 4,
 "nbformat_minor": 5
}
