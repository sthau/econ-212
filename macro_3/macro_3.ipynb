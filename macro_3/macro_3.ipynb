{
 "cells": [
  {
   "cell_type": "markdown",
   "id": "b57824c8",
   "metadata": {},
   "source": [
    "# Econ 212: Problem Set 3"
   ]
  },
  {
   "cell_type": "code",
   "execution_count": 1,
   "id": "1fae3080",
   "metadata": {},
   "outputs": [],
   "source": [
    "from fredapi import Fred\n",
    "from sklearn.linear_model import LinearRegression\n",
    "\n",
    "import numpy as np\n",
    "import matplotlib.pyplot as plt\n",
    "import pandas as pd"
   ]
  },
  {
   "cell_type": "code",
   "execution_count": 2,
   "id": "5160892f",
   "metadata": {},
   "outputs": [],
   "source": [
    "fred = Fred(api_key = 'f6fa4f544be19c2ea791e9a3240470bf')"
   ]
  },
  {
   "cell_type": "markdown",
   "id": "92d3b00e",
   "metadata": {},
   "source": [
    "## Problem 1: Seignorage and inflation"
   ]
  },
  {
   "cell_type": "markdown",
   "id": "ebec28d4",
   "metadata": {},
   "source": [
    "### Part (b) - ADD GRAPHS WITH RECESSION BANDS"
   ]
  },
  {
   "cell_type": "code",
   "execution_count": 3,
   "id": "f928c861",
   "metadata": {},
   "outputs": [],
   "source": [
    "def est_param(start_date, end_date, monthly_end_date):\n",
    "    \n",
    "    ## get and process data\n",
    "    #######################\n",
    "    \n",
    "    # money\n",
    "    M_monthly = fred.get_series('M2SL', observation_start = start_date, observation_end = monthly_end_date)\n",
    "    M = np.mean(np.reshape(M_monthly, (3, len(M_monthly) // 3), order = 'F'), axis = 0)\n",
    "\n",
    "    # prices\n",
    "    P = fred.get_series('PCECTPI', observation_start = start_date, observation_end = end_date)\n",
    "\n",
    "    # interest rates\n",
    "    i_monthly = fred.get_series('FEDFUNDS', observation_start = start_date, observation_end = monthly_end_date)\n",
    "    i = np.mean(np.reshape(i_monthly, (3, len(i_monthly) // 3), order = 'F'), axis = 0)\n",
    "\n",
    "    # consumption\n",
    "    C = fred.get_series('PCEC', observation_start = start_date, observation_end = end_date)\n",
    "    \n",
    "    # real money balances\n",
    "    m = M / P\n",
    "\n",
    "    # real consumption\n",
    "    c = C / P\n",
    "    \n",
    "    ## fit linear regression to estimate preferences parameters\n",
    "    ###########################################################\n",
    "    \n",
    "    x = np.array([np.log(c), np.log(1 / i + 1)]).T\n",
    "    y = np.array(np.log(m))\n",
    "\n",
    "    model = LinearRegression().fit(x, y)\n",
    "\n",
    "    print('intercept:', round(model.intercept_, 4), \n",
    "          '\\ncoefficients:', [round(coef, 4) for coef in model.coef_])\n",
    "    \n",
    "    gamma = 1 / model.coef_[1]\n",
    "    phi = np.exp(model.intercept_ / model.coef_[1])\n",
    "    sigma = model.coef_[0] / model.coef_[1]\n",
    "\n",
    "    print('gamma:', round(gamma, 4), \n",
    "          '\\nphi:', round(phi, 4), \n",
    "          '\\nsigma:', round(sigma, 4))\n",
    "    \n",
    "    return M_monthly, M, P, i_monthly, i, C, m, c"
   ]
  },
  {
   "cell_type": "code",
   "execution_count": 4,
   "id": "058f2cbf",
   "metadata": {},
   "outputs": [
    {
     "name": "stdout",
     "output_type": "stream",
     "text": [
      "intercept: 0.3001 \n",
      "coefficients: [0.8829, 0.114]\n",
      "gamma: 8.7705 \n",
      "phi: 13.9076 \n",
      "sigma: 7.7433\n"
     ]
    }
   ],
   "source": [
    "M_monthly, M, P, i_monthly, i, C, m, c = est_param('1959-01-01', '2022-10-01', '2022-12-01')"
   ]
  },
  {
   "cell_type": "code",
   "execution_count": 5,
   "id": "f0e29159",
   "metadata": {},
   "outputs": [
    {
     "name": "stdout",
     "output_type": "stream",
     "text": [
      "intercept: -0.5723 \n",
      "coefficients: [1.1595, 0.145]\n",
      "gamma: 6.8985 \n",
      "phi: 0.0193 \n",
      "sigma: 7.9988\n"
     ]
    }
   ],
   "source": [
    "est_param('1960-01-01', '1969-10-01', '1969-12-01');"
   ]
  },
  {
   "cell_type": "code",
   "execution_count": 6,
   "id": "132a9257",
   "metadata": {},
   "outputs": [
    {
     "name": "stdout",
     "output_type": "stream",
     "text": [
      "intercept: 0.1707 \n",
      "coefficients: [0.9269, 0.2606]\n",
      "gamma: 3.8379 \n",
      "phi: 1.9256 \n",
      "sigma: 3.5575\n"
     ]
    }
   ],
   "source": [
    "est_param('1970-01-01', '1979-10-01', '1979-12-01');"
   ]
  },
  {
   "cell_type": "code",
   "execution_count": 7,
   "id": "3af9fe77",
   "metadata": {},
   "outputs": [
    {
     "name": "stdout",
     "output_type": "stream",
     "text": [
      "intercept: 0.4507 \n",
      "coefficients: [0.8284, 0.9471]\n",
      "gamma: 1.0558 \n",
      "phi: 1.6093 \n",
      "sigma: 0.8746\n"
     ]
    }
   ],
   "source": [
    "est_param('1980-01-01', '1989-10-01', '1989-12-01');"
   ]
  },
  {
   "cell_type": "code",
   "execution_count": 8,
   "id": "30e4ada9",
   "metadata": {},
   "outputs": [
    {
     "name": "stdout",
     "output_type": "stream",
     "text": [
      "intercept: 2.2286 \n",
      "coefficients: [0.4128, -0.1223]\n",
      "gamma: -8.1786 \n",
      "phi: 0.0 \n",
      "sigma: -3.3761\n"
     ]
    }
   ],
   "source": [
    "est_param('1990-01-01', '1999-10-01', '1999-12-01');"
   ]
  },
  {
   "cell_type": "code",
   "execution_count": 9,
   "id": "73779b41",
   "metadata": {},
   "outputs": [
    {
     "name": "stdout",
     "output_type": "stream",
     "text": [
      "intercept: -1.003 \n",
      "coefficients: [1.15, 0.0757]\n",
      "gamma: 13.2093 \n",
      "phi: 0.0 \n",
      "sigma: 15.1908\n"
     ]
    }
   ],
   "source": [
    "est_param('2000-01-01', '2009-10-01', '2009-12-01');"
   ]
  },
  {
   "cell_type": "code",
   "execution_count": 10,
   "id": "a248a79b",
   "metadata": {},
   "outputs": [
    {
     "name": "stdout",
     "output_type": "stream",
     "text": [
      "intercept: -6.5928 \n",
      "coefficients: [2.3599, 0.04]\n",
      "gamma: 24.9868 \n",
      "phi: 0.0 \n",
      "sigma: 58.9663\n"
     ]
    }
   ],
   "source": [
    "est_param('2010-01-01', '2019-10-01', '2019-12-01');"
   ]
  },
  {
   "cell_type": "markdown",
   "id": "30d7ffee",
   "metadata": {},
   "source": [
    "### Part (c)"
   ]
  },
  {
   "cell_type": "code",
   "execution_count": null,
   "id": "2e8a480d",
   "metadata": {},
   "outputs": [],
   "source": [
    "# calculate seignorage in pieces"
   ]
  },
  {
   "cell_type": "markdown",
   "id": "75868dd9",
   "metadata": {},
   "source": [
    "## Problem 2: SVAR impulse response to monetary shocks"
   ]
  },
  {
   "cell_type": "code",
   "execution_count": null,
   "id": "2b297043",
   "metadata": {},
   "outputs": [],
   "source": []
  }
 ],
 "metadata": {
  "kernelspec": {
   "display_name": "Python 3 (ipykernel)",
   "language": "python",
   "name": "python3"
  },
  "language_info": {
   "codemirror_mode": {
    "name": "ipython",
    "version": 3
   },
   "file_extension": ".py",
   "mimetype": "text/x-python",
   "name": "python",
   "nbconvert_exporter": "python",
   "pygments_lexer": "ipython3",
   "version": "3.10.6"
  }
 },
 "nbformat": 4,
 "nbformat_minor": 5
}
